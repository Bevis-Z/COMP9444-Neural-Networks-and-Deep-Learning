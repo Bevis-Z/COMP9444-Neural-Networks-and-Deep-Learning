{
 "cells": [
  {
   "cell_type": "markdown",
   "source": [
    "# Group: Great\n",
    "## Author: Bowen Zhao\n",
    "## zID: z5446616\n",
    "### Introduction and Motivation:\n",
    "In this project, our group choose to do Computer Vision project, specifically in image segmentation. We decide to use different models to train and test the dataset we choose and try to figure out the different such as the strength and weakness with different models.\n",
    "\n",
    "\n",
    "### Data Source\n",
    "In our project, we use the dataset named Clothing Co-Parsing.\n",
    "\n",
    "This dataset has 2,098 high-resolution street fashion photos with totally 59 tags. And we use 80% of the dataset to train and the rest of dataset for testing.\n",
    "\n",
    "we download the data from:\n",
    "https://github.com/bearpaw/clothing-co-parsing.git"
   ],
   "metadata": {
    "collapsed": false
   }
  },
  {
   "cell_type": "code",
   "execution_count": null,
   "id": "daba6a61-0862-42bf-9822-d1549d8971d3",
   "metadata": {
    "pycharm": {
     "is_executing": true
    }
   },
   "outputs": [],
   "source": [
    "#from google.colab import drive\n",
    "#drive.mount('/content/drive')\n",
    "\n",
    "!git clone https://github.com/bearpaw/clothing-co-parsing.git"
   ]
  },
  {
   "cell_type": "code",
   "execution_count": 2,
   "id": "64a07fe4-f91e-4ef8-8376-6dec99796690",
   "metadata": {},
   "outputs": [],
   "source": [
    "path = 'clothing-co-parsing/'\n",
    "training_restore_path = 'training.restore'\n",
    "use_cuda = True"
   ]
  },
  {
   "cell_type": "code",
   "execution_count": 3,
   "id": "ae1257aa-99aa-49b3-ad70-580cfa78bf23",
   "metadata": {},
   "outputs": [],
   "source": [
    "from PIL import Image\n",
    "import scipy.io\n",
    "import glob\n",
    "import os\n",
    "import numpy as np\n",
    "import torch\n",
    "import pandas as pd\n",
    "from skimage import color\n",
    "import matplotlib.pyplot as plt\n",
    "from torch.autograd.grad_mode import F\n",
    "from tqdm import tqdm"
   ]
  },
  {
   "cell_type": "markdown",
   "source": [
    "## Model\n",
    "U2-Net is the model I used in our project, this model is a two-level nested U-structure architecture that is designed for salient object detection (SOD). The architecture allows the network to go deeper, attain high resolution, without significantly increasing the memory and computation cost.\n",
    "\n",
    "1.   First, the network is a two-layer nested U-shaped structure that does not use a pre-trained backbone model for image classification and can be trained from scratch\n",
    "2.   Second, this architecture allows the network to go deeper and achieve high resolution without significantly increasing memory and computational costs. At the bottom layer, a new RSU is designed, which can extract multi-scale features within the stage without reducing the resolution of the feature map; at the top layer, there is a structure similar to U-Net, and each stage is filled by an RSU block.\n",
    "\n",
    "Besides, this model consists of three parts:\n",
    "1. Six-level encoder\n",
    "2. Five-stage decoder\n",
    "3. Saliency map fusion model connected to decoder and final stage encoder\n",
    "\n",
    "\n",
    "And in the encoder section, it separately use RSU7 RSU6 RSU5 and RSU4’s RSU structure and use the extension RSU4 as RSU-4F in en-5 and en-6 in order to prevent the loss of useful context. In the meantime, the decoder5 also use the RSU-4F."
   ],
   "metadata": {
    "collapsed": false
   }
  },
  {
   "cell_type": "code",
   "execution_count": 4,
   "id": "397052a4-8cee-440c-b046-8fec61a1ef90",
   "metadata": {},
   "outputs": [],
   "source": [
    "# Github: https://github.com/levindabhi/cloth-segmentation\n",
    "\n",
    "import torch\n",
    "import torch.nn as nn\n",
    "import torch.nn.functional as F\n",
    "\n",
    "\n",
    "class REBNCONV(nn.Module):\n",
    "    def __init__(self, in_ch=3, out_ch=3, dirate=1):\n",
    "        super(REBNCONV, self).__init__()\n",
    "\n",
    "        self.conv_s1 = nn.Conv2d(\n",
    "            in_ch, out_ch, 3, padding=1 * dirate, dilation=1 * dirate\n",
    "        )\n",
    "        self.bn_s1 = nn.BatchNorm2d(out_ch)\n",
    "        self.relu_s1 = nn.ReLU(inplace=True)\n",
    "\n",
    "    def forward(self, x):\n",
    "        hx = x\n",
    "        xout = self.relu_s1(self.bn_s1(self.conv_s1(hx)))\n",
    "\n",
    "        return xout\n",
    "\n",
    "\n",
    "## upsample tensor 'src' to have the same spatial size with tensor 'tar'\n",
    "def _upsample_like(src, tar):\n",
    "    src = F.upsample(src, size=tar.shape[2:], mode=\"bilinear\")\n",
    "\n",
    "    return src\n",
    "\n",
    "\n",
    "### RSU-7 ###\n",
    "class RSU7(nn.Module):  # UNet07DRES(nn.Module):\n",
    "    def __init__(self, in_ch=3, mid_ch=12, out_ch=3):\n",
    "        super(RSU7, self).__init__()\n",
    "\n",
    "        self.rebnconvin = REBNCONV(in_ch, out_ch, dirate=1)\n",
    "\n",
    "        self.rebnconv1 = REBNCONV(out_ch, mid_ch, dirate=1)\n",
    "        self.pool1 = nn.MaxPool2d(2, stride=2, ceil_mode=True)\n",
    "\n",
    "        self.rebnconv2 = REBNCONV(mid_ch, mid_ch, dirate=1)\n",
    "        self.pool2 = nn.MaxPool2d(2, stride=2, ceil_mode=True)\n",
    "\n",
    "        self.rebnconv3 = REBNCONV(mid_ch, mid_ch, dirate=1)\n",
    "        self.pool3 = nn.MaxPool2d(2, stride=2, ceil_mode=True)\n",
    "\n",
    "        self.rebnconv4 = REBNCONV(mid_ch, mid_ch, dirate=1)\n",
    "        self.pool4 = nn.MaxPool2d(2, stride=2, ceil_mode=True)\n",
    "\n",
    "        self.rebnconv5 = REBNCONV(mid_ch, mid_ch, dirate=1)\n",
    "        self.pool5 = nn.MaxPool2d(2, stride=2, ceil_mode=True)\n",
    "\n",
    "        self.rebnconv6 = REBNCONV(mid_ch, mid_ch, dirate=1)\n",
    "\n",
    "        self.rebnconv7 = REBNCONV(mid_ch, mid_ch, dirate=2)\n",
    "\n",
    "        self.rebnconv6d = REBNCONV(mid_ch * 2, mid_ch, dirate=1)\n",
    "        self.rebnconv5d = REBNCONV(mid_ch * 2, mid_ch, dirate=1)\n",
    "        self.rebnconv4d = REBNCONV(mid_ch * 2, mid_ch, dirate=1)\n",
    "        self.rebnconv3d = REBNCONV(mid_ch * 2, mid_ch, dirate=1)\n",
    "        self.rebnconv2d = REBNCONV(mid_ch * 2, mid_ch, dirate=1)\n",
    "        self.rebnconv1d = REBNCONV(mid_ch * 2, out_ch, dirate=1)\n",
    "\n",
    "    def forward(self, x):\n",
    "        hx = x\n",
    "        hxin = self.rebnconvin(hx)\n",
    "\n",
    "        hx1 = self.rebnconv1(hxin)\n",
    "        hx = self.pool1(hx1)\n",
    "\n",
    "        hx2 = self.rebnconv2(hx)\n",
    "        hx = self.pool2(hx2)\n",
    "\n",
    "        hx3 = self.rebnconv3(hx)\n",
    "        hx = self.pool3(hx3)\n",
    "\n",
    "        hx4 = self.rebnconv4(hx)\n",
    "        hx = self.pool4(hx4)\n",
    "\n",
    "        hx5 = self.rebnconv5(hx)\n",
    "        hx = self.pool5(hx5)\n",
    "\n",
    "        hx6 = self.rebnconv6(hx)\n",
    "\n",
    "        hx7 = self.rebnconv7(hx6)\n",
    "\n",
    "        hx6d = self.rebnconv6d(torch.cat((hx7, hx6), 1))\n",
    "        hx6dup = _upsample_like(hx6d, hx5)\n",
    "\n",
    "        hx5d = self.rebnconv5d(torch.cat((hx6dup, hx5), 1))\n",
    "        hx5dup = _upsample_like(hx5d, hx4)\n",
    "\n",
    "        hx4d = self.rebnconv4d(torch.cat((hx5dup, hx4), 1))\n",
    "        hx4dup = _upsample_like(hx4d, hx3)\n",
    "\n",
    "        hx3d = self.rebnconv3d(torch.cat((hx4dup, hx3), 1))\n",
    "        hx3dup = _upsample_like(hx3d, hx2)\n",
    "\n",
    "        hx2d = self.rebnconv2d(torch.cat((hx3dup, hx2), 1))\n",
    "        hx2dup = _upsample_like(hx2d, hx1)\n",
    "\n",
    "        hx1d = self.rebnconv1d(torch.cat((hx2dup, hx1), 1))\n",
    "\n",
    "        \"\"\"\n",
    "        del hx1, hx2, hx3, hx4, hx5, hx6, hx7\n",
    "        del hx6d, hx5d, hx3d, hx2d\n",
    "        del hx2dup, hx3dup, hx4dup, hx5dup, hx6dup\n",
    "        \"\"\"\n",
    "\n",
    "        return hx1d + hxin\n",
    "\n",
    "\n",
    "### RSU-6 ###\n",
    "class RSU6(nn.Module):  # UNet06DRES(nn.Module):\n",
    "    def __init__(self, in_ch=3, mid_ch=12, out_ch=3):\n",
    "        super(RSU6, self).__init__()\n",
    "\n",
    "        self.rebnconvin = REBNCONV(in_ch, out_ch, dirate=1)\n",
    "\n",
    "        self.rebnconv1 = REBNCONV(out_ch, mid_ch, dirate=1)\n",
    "        self.pool1 = nn.MaxPool2d(2, stride=2, ceil_mode=True)\n",
    "\n",
    "        self.rebnconv2 = REBNCONV(mid_ch, mid_ch, dirate=1)\n",
    "        self.pool2 = nn.MaxPool2d(2, stride=2, ceil_mode=True)\n",
    "\n",
    "        self.rebnconv3 = REBNCONV(mid_ch, mid_ch, dirate=1)\n",
    "        self.pool3 = nn.MaxPool2d(2, stride=2, ceil_mode=True)\n",
    "\n",
    "        self.rebnconv4 = REBNCONV(mid_ch, mid_ch, dirate=1)\n",
    "        self.pool4 = nn.MaxPool2d(2, stride=2, ceil_mode=True)\n",
    "\n",
    "        self.rebnconv5 = REBNCONV(mid_ch, mid_ch, dirate=1)\n",
    "\n",
    "        self.rebnconv6 = REBNCONV(mid_ch, mid_ch, dirate=2)\n",
    "\n",
    "        self.rebnconv5d = REBNCONV(mid_ch * 2, mid_ch, dirate=1)\n",
    "        self.rebnconv4d = REBNCONV(mid_ch * 2, mid_ch, dirate=1)\n",
    "        self.rebnconv3d = REBNCONV(mid_ch * 2, mid_ch, dirate=1)\n",
    "        self.rebnconv2d = REBNCONV(mid_ch * 2, mid_ch, dirate=1)\n",
    "        self.rebnconv1d = REBNCONV(mid_ch * 2, out_ch, dirate=1)\n",
    "\n",
    "    def forward(self, x):\n",
    "        hx = x\n",
    "\n",
    "        hxin = self.rebnconvin(hx)\n",
    "\n",
    "        hx1 = self.rebnconv1(hxin)\n",
    "        hx = self.pool1(hx1)\n",
    "\n",
    "        hx2 = self.rebnconv2(hx)\n",
    "        hx = self.pool2(hx2)\n",
    "\n",
    "        hx3 = self.rebnconv3(hx)\n",
    "        hx = self.pool3(hx3)\n",
    "\n",
    "        hx4 = self.rebnconv4(hx)\n",
    "        hx = self.pool4(hx4)\n",
    "\n",
    "        hx5 = self.rebnconv5(hx)\n",
    "\n",
    "        hx6 = self.rebnconv6(hx5)\n",
    "\n",
    "        hx5d = self.rebnconv5d(torch.cat((hx6, hx5), 1))\n",
    "        hx5dup = _upsample_like(hx5d, hx4)\n",
    "\n",
    "        hx4d = self.rebnconv4d(torch.cat((hx5dup, hx4), 1))\n",
    "        hx4dup = _upsample_like(hx4d, hx3)\n",
    "\n",
    "        hx3d = self.rebnconv3d(torch.cat((hx4dup, hx3), 1))\n",
    "        hx3dup = _upsample_like(hx3d, hx2)\n",
    "\n",
    "        hx2d = self.rebnconv2d(torch.cat((hx3dup, hx2), 1))\n",
    "        hx2dup = _upsample_like(hx2d, hx1)\n",
    "\n",
    "        hx1d = self.rebnconv1d(torch.cat((hx2dup, hx1), 1))\n",
    "\n",
    "        \"\"\"\n",
    "        del hx1, hx2, hx3, hx4, hx5, hx6\n",
    "        del hx5d, hx4d, hx3d, hx2d\n",
    "        del hx2dup, hx3dup, hx4dup, hx5dup\n",
    "        \"\"\"\n",
    "\n",
    "        return hx1d + hxin\n",
    "\n",
    "\n",
    "### RSU-5 ###\n",
    "class RSU5(nn.Module):  # UNet05DRES(nn.Module):\n",
    "    def __init__(self, in_ch=3, mid_ch=12, out_ch=3):\n",
    "        super(RSU5, self).__init__()\n",
    "\n",
    "        self.rebnconvin = REBNCONV(in_ch, out_ch, dirate=1)\n",
    "\n",
    "        self.rebnconv1 = REBNCONV(out_ch, mid_ch, dirate=1)\n",
    "        self.pool1 = nn.MaxPool2d(2, stride=2, ceil_mode=True)\n",
    "        self.rebnconv2 = REBNCONV(mid_ch, mid_ch, dirate=1)\n",
    "        self.pool2 = nn.MaxPool2d(2, stride=2, ceil_mode=True)\n",
    "        self.rebnconv3 = REBNCONV(mid_ch, mid_ch, dirate=1)\n",
    "        self.pool3 = nn.MaxPool2d(2, stride=2, ceil_mode=True)\n",
    "\n",
    "        self.rebnconv4 = REBNCONV(mid_ch, mid_ch, dirate=1)\n",
    "        self.rebnconv5 = REBNCONV(mid_ch, mid_ch, dirate=2)\n",
    "\n",
    "        self.rebnconv4d = REBNCONV(mid_ch * 2, mid_ch, dirate=1)\n",
    "        self.rebnconv3d = REBNCONV(mid_ch * 2, mid_ch, dirate=1)\n",
    "        self.rebnconv2d = REBNCONV(mid_ch * 2, mid_ch, dirate=1)\n",
    "        self.rebnconv1d = REBNCONV(mid_ch * 2, out_ch, dirate=1)\n",
    "\n",
    "    def forward(self, x):\n",
    "        hx = x\n",
    "\n",
    "        hxin = self.rebnconvin(hx)\n",
    "\n",
    "        hx1 = self.rebnconv1(hxin)\n",
    "        hx = self.pool1(hx1)\n",
    "\n",
    "        hx2 = self.rebnconv2(hx)\n",
    "        hx = self.pool2(hx2)\n",
    "\n",
    "        hx3 = self.rebnconv3(hx)\n",
    "        hx = self.pool3(hx3)\n",
    "\n",
    "        hx4 = self.rebnconv4(hx)\n",
    "\n",
    "        hx5 = self.rebnconv5(hx4)\n",
    "\n",
    "        hx4d = self.rebnconv4d(torch.cat((hx5, hx4), 1))\n",
    "        hx4dup = _upsample_like(hx4d, hx3)\n",
    "\n",
    "        hx3d = self.rebnconv3d(torch.cat((hx4dup, hx3), 1))\n",
    "        hx3dup = _upsample_like(hx3d, hx2)\n",
    "\n",
    "        hx2d = self.rebnconv2d(torch.cat((hx3dup, hx2), 1))\n",
    "        hx2dup = _upsample_like(hx2d, hx1)\n",
    "\n",
    "        hx1d = self.rebnconv1d(torch.cat((hx2dup, hx1), 1))\n",
    "\n",
    "        \"\"\"\n",
    "        del hx1, hx2, hx3, hx4, hx5\n",
    "        del hx4d, hx3d, hx2d\n",
    "        del hx2dup, hx3dup, hx4dup\n",
    "        \"\"\"\n",
    "\n",
    "        return hx1d + hxin\n",
    "\n",
    "\n",
    "### RSU-4 ###\n",
    "class RSU4(nn.Module):  # UNet04DRES(nn.Module):\n",
    "    def __init__(self, in_ch=3, mid_ch=12, out_ch=3):\n",
    "        super(RSU4, self).__init__()\n",
    "\n",
    "        self.rebnconvin = REBNCONV(in_ch, out_ch, dirate=1)\n",
    "\n",
    "        self.rebnconv1 = REBNCONV(out_ch, mid_ch, dirate=1)\n",
    "        self.pool1 = nn.MaxPool2d(2, stride=2, ceil_mode=True)\n",
    "\n",
    "        self.rebnconv2 = REBNCONV(mid_ch, mid_ch, dirate=1)\n",
    "        self.pool2 = nn.MaxPool2d(2, stride=2, ceil_mode=True)\n",
    "\n",
    "        self.rebnconv3 = REBNCONV(mid_ch, mid_ch, dirate=1)\n",
    "\n",
    "        self.rebnconv4 = REBNCONV(mid_ch, mid_ch, dirate=2)\n",
    "\n",
    "        self.rebnconv3d = REBNCONV(mid_ch * 2, mid_ch, dirate=1)\n",
    "        self.rebnconv2d = REBNCONV(mid_ch * 2, mid_ch, dirate=1)\n",
    "        self.rebnconv1d = REBNCONV(mid_ch * 2, out_ch, dirate=1)\n",
    "\n",
    "    def forward(self, x):\n",
    "        hx = x\n",
    "\n",
    "        hxin = self.rebnconvin(hx)\n",
    "\n",
    "        hx1 = self.rebnconv1(hxin)\n",
    "        hx = self.pool1(hx1)\n",
    "\n",
    "        hx2 = self.rebnconv2(hx)\n",
    "        hx = self.pool2(hx2)\n",
    "\n",
    "        hx3 = self.rebnconv3(hx)\n",
    "\n",
    "        hx4 = self.rebnconv4(hx3)\n",
    "\n",
    "        hx3d = self.rebnconv3d(torch.cat((hx4, hx3), 1))\n",
    "        hx3dup = _upsample_like(hx3d, hx2)\n",
    "\n",
    "        hx2d = self.rebnconv2d(torch.cat((hx3dup, hx2), 1))\n",
    "        hx2dup = _upsample_like(hx2d, hx1)\n",
    "\n",
    "        hx1d = self.rebnconv1d(torch.cat((hx2dup, hx1), 1))\n",
    "\n",
    "        \"\"\"\n",
    "        del hx1, hx2, hx3, hx4\n",
    "        del hx3d, hx2d\n",
    "        del hx2dup, hx3dup\n",
    "        \"\"\"\n",
    "\n",
    "        return hx1d + hxin\n",
    "\n",
    "\n",
    "### RSU-4F ###\n",
    "class RSU4F(nn.Module):  # UNet04FRES(nn.Module):\n",
    "    def __init__(self, in_ch=3, mid_ch=12, out_ch=3):\n",
    "        super(RSU4F, self).__init__()\n",
    "\n",
    "        self.rebnconvin = REBNCONV(in_ch, out_ch, dirate=1)\n",
    "\n",
    "        self.rebnconv1 = REBNCONV(out_ch, mid_ch, dirate=1)\n",
    "        self.rebnconv2 = REBNCONV(mid_ch, mid_ch, dirate=2)\n",
    "        self.rebnconv3 = REBNCONV(mid_ch, mid_ch, dirate=4)\n",
    "\n",
    "        self.rebnconv4 = REBNCONV(mid_ch, mid_ch, dirate=8)\n",
    "\n",
    "        self.rebnconv3d = REBNCONV(mid_ch * 2, mid_ch, dirate=4)\n",
    "        self.rebnconv2d = REBNCONV(mid_ch * 2, mid_ch, dirate=2)\n",
    "        self.rebnconv1d = REBNCONV(mid_ch * 2, out_ch, dirate=1)\n",
    "\n",
    "    def forward(self, x):\n",
    "        hx = x\n",
    "\n",
    "        hxin = self.rebnconvin(hx)\n",
    "\n",
    "        hx1 = self.rebnconv1(hxin)\n",
    "        hx2 = self.rebnconv2(hx1)\n",
    "        hx3 = self.rebnconv3(hx2)\n",
    "\n",
    "        hx4 = self.rebnconv4(hx3)\n",
    "\n",
    "        hx3d = self.rebnconv3d(torch.cat((hx4, hx3), 1))\n",
    "        hx2d = self.rebnconv2d(torch.cat((hx3d, hx2), 1))\n",
    "        hx1d = self.rebnconv1d(torch.cat((hx2d, hx1), 1))\n",
    "\n",
    "        \"\"\"\n",
    "        del hx1, hx2, hx3, hx4\n",
    "        del hx3d, hx2d\n",
    "        \"\"\"\n",
    "\n",
    "        return hx1d + hxin\n",
    "\n",
    "\n",
    "##### U^2-Net ####\n",
    "class U2NET(nn.Module):\n",
    "    def __init__(self, in_ch=3, out_ch=1):\n",
    "        super(U2NET, self).__init__()\n",
    "\n",
    "        self.stage1 = RSU7(in_ch, 32, 64)\n",
    "        self.pool12 = nn.MaxPool2d(2, stride=2, ceil_mode=True)\n",
    "\n",
    "        self.stage2 = RSU6(64, 32, 128)\n",
    "        self.pool23 = nn.MaxPool2d(2, stride=2, ceil_mode=True)\n",
    "\n",
    "        self.stage3 = RSU5(128, 64, 256)\n",
    "        self.pool34 = nn.MaxPool2d(2, stride=2, ceil_mode=True)\n",
    "\n",
    "        self.stage4 = RSU4(256, 128, 512)\n",
    "        self.pool45 = nn.MaxPool2d(2, stride=2, ceil_mode=True)\n",
    "\n",
    "        self.stage5 = RSU4F(512, 256, 512)\n",
    "        self.pool56 = nn.MaxPool2d(2, stride=2, ceil_mode=True)\n",
    "\n",
    "        self.stage6 = RSU4F(512, 256, 512)\n",
    "\n",
    "        # decoder\n",
    "        self.stage5d = RSU4F(1024, 256, 512)\n",
    "        self.stage4d = RSU4(1024, 128, 256)\n",
    "        self.stage3d = RSU5(512, 64, 128)\n",
    "        self.stage2d = RSU6(256, 32, 64)\n",
    "        self.stage1d = RSU7(128, 16, 64)\n",
    "\n",
    "        self.side1 = nn.Conv2d(64, out_ch, 3, padding=1)\n",
    "        self.side2 = nn.Conv2d(64, out_ch, 3, padding=1)\n",
    "        self.side3 = nn.Conv2d(128, out_ch, 3, padding=1)\n",
    "        self.side4 = nn.Conv2d(256, out_ch, 3, padding=1)\n",
    "        self.side5 = nn.Conv2d(512, out_ch, 3, padding=1)\n",
    "        self.side6 = nn.Conv2d(512, out_ch, 3, padding=1)\n",
    "\n",
    "        self.outconv = nn.Conv2d(6 * out_ch, out_ch, 1)\n",
    "\n",
    "    def forward(self, x):\n",
    "        hx = x\n",
    "\n",
    "        # stage 1\n",
    "        hx1 = self.stage1(hx)\n",
    "        hx = self.pool12(hx1)\n",
    "\n",
    "        # stage 2\n",
    "        hx2 = self.stage2(hx)\n",
    "        hx = self.pool23(hx2)\n",
    "\n",
    "        # stage 3\n",
    "        hx3 = self.stage3(hx)\n",
    "        hx = self.pool34(hx3)\n",
    "\n",
    "        # stage 4\n",
    "        hx4 = self.stage4(hx)\n",
    "        hx = self.pool45(hx4)\n",
    "\n",
    "        # stage 5\n",
    "        hx5 = self.stage5(hx)\n",
    "        hx = self.pool56(hx5)\n",
    "\n",
    "        # stage 6\n",
    "        hx6 = self.stage6(hx)\n",
    "        hx6up = _upsample_like(hx6, hx5)\n",
    "\n",
    "        # -------------------- decoder --------------------\n",
    "        hx5d = self.stage5d(torch.cat((hx6up, hx5), 1))\n",
    "        hx5dup = _upsample_like(hx5d, hx4)\n",
    "\n",
    "        hx4d = self.stage4d(torch.cat((hx5dup, hx4), 1))\n",
    "        hx4dup = _upsample_like(hx4d, hx3)\n",
    "\n",
    "        hx3d = self.stage3d(torch.cat((hx4dup, hx3), 1))\n",
    "        hx3dup = _upsample_like(hx3d, hx2)\n",
    "\n",
    "        hx2d = self.stage2d(torch.cat((hx3dup, hx2), 1))\n",
    "        hx2dup = _upsample_like(hx2d, hx1)\n",
    "\n",
    "        hx1d = self.stage1d(torch.cat((hx2dup, hx1), 1))\n",
    "\n",
    "        # side output\n",
    "        d1 = self.side1(hx1d)\n",
    "\n",
    "        d2 = self.side2(hx2d)\n",
    "        d2 = _upsample_like(d2, d1)\n",
    "\n",
    "        d3 = self.side3(hx3d)\n",
    "        d3 = _upsample_like(d3, d1)\n",
    "\n",
    "        d4 = self.side4(hx4d)\n",
    "        d4 = _upsample_like(d4, d1)\n",
    "\n",
    "        d5 = self.side5(hx5d)\n",
    "        d5 = _upsample_like(d5, d1)\n",
    "\n",
    "        d6 = self.side6(hx6)\n",
    "        d6 = _upsample_like(d6, d1)\n",
    "\n",
    "        d0 = self.outconv(torch.cat((d1, d2, d3, d4, d5, d6), 1))\n",
    "\n",
    "        \"\"\"\n",
    "        del hx1, hx2, hx3, hx4, hx5, hx6\n",
    "        del hx5d, hx4d, hx3d, hx2d, hx1d\n",
    "        del hx6up, hx5dup, hx4dup, hx3dup, hx2dup\n",
    "        \"\"\"\n",
    "\n",
    "        return d0, d1, d2, d3, d4, d5, d6\n"
   ]
  },
  {
   "cell_type": "code",
   "execution_count": 5,
   "outputs": [],
   "source": [
    "device = torch.device('mps')\n",
    "#if use_cuda and torch.cuda.is_available() else torch.device('cpu')\n",
    "\n",
    "learning_rate = 1e-5\n",
    "Net = U2NET(in_ch=3, out_ch=59)\n",
    "Net = Net.to('mps')\n",
    "\n",
    "optimizer = torch.optim.Adam(params=Net.parameters(),\n",
    "                             lr=learning_rate)"
   ],
   "metadata": {
    "collapsed": false
   }
  },
  {
   "cell_type": "code",
   "execution_count": 6,
   "outputs": [],
   "source": [
    "# From Tobias's Nptebook\n",
    "def downsample(nparr, n):\n",
    "    return nparr[::n, ::n]\n",
    "\n",
    "\n",
    "def pad_data(data, y):\n",
    "    ext = np.array([data[len(data) - 1] for _ in range(data.shape[0], y)])\n",
    "    if len(ext) > 0:\n",
    "        data = np.concatenate([data, ext])\n",
    "    return data\n",
    "\n",
    "\n",
    "def load_labels():\n",
    "    mat = scipy.io.loadmat(path + '/label_list.mat')\n",
    "    label_list = [arr[0] for arr in mat['label_list'][0]]\n",
    "    return label_list\n",
    "\n",
    "\n",
    "def load_data():\n",
    "    annotations = [(os.path.basename(path), scipy.io.loadmat(path)['groundtruth']) for path in\n",
    "                   sorted(glob.glob(path + '/annotations/pixel-level/*.mat'))]\n",
    "    data_and_anno = [(fname, anno, Image.open(path + \"/photos/\" + os.path.splitext(fname)[0] + '.jpg')) for\n",
    "                     (fname, anno) in annotations]\n",
    "    return data_and_anno\n"
   ],
   "metadata": {
    "collapsed": false
   }
  },
  {
   "cell_type": "markdown",
   "source": [
    "Data Saving Method"
   ],
   "metadata": {
    "collapsed": false
   }
  },
  {
   "cell_type": "code",
   "execution_count": 9,
   "outputs": [],
   "source": [
    "data_and_anno = load_data()"
   ],
   "metadata": {
    "collapsed": false
   }
  },
  {
   "cell_type": "code",
   "execution_count": 10,
   "outputs": [],
   "source": [
    "import torchvision\n",
    "import torchvision.transforms as tf\n",
    "\n",
    "width = int(520 / 4) + 8  # try to make it same as downsample(ann, ...) below\n",
    "height = int(873 / 4) + 1  # try to make it same as downsample(ann, ...) below\n",
    "\n",
    "transform_img = tf.Compose([tf.ToPILImage(), tf.Resize((height, width)),\n",
    "                            tf.ToTensor()])  # , tf.Normalize((0.485, 0.456, 0.406), (0.229, 0.224, 0.225))])\n",
    "transform_ann = lambda ann: torch.tensor(downsample(ann, 4))\n",
    "\n",
    "images = torch.stack([transform_img(pad_data(np.array(img), 873)) for (_, _, img) in data_and_anno])\n",
    "annotations = torch.stack([transform_ann(pad_data(ann, 873)) for (_, ann, _) in data_and_anno])\n",
    "\n",
    "test_size = int(len(data_and_anno) * 0.2)\n",
    "test_data = images[:test_size]\n",
    "train_data = images[test_size:]\n",
    "test_target = annotations[:test_size]\n",
    "train_target = annotations[test_size:]\n"
   ],
   "metadata": {
    "collapsed": false
   }
  },
  {
   "cell_type": "code",
   "execution_count": 11,
   "outputs": [],
   "source": [
    "def get_labels(pred):\n",
    "    # pred.shape = (batchsize, classes=59, height, width)\n",
    "    # for each class, get the highest probability indices\n",
    "    _, ind = pred.topk(1, 1, True, True)\n",
    "    ind = ind.squeeze(dim=1)  # (batchsize, height, width)\n",
    "    return ind\n",
    "\n",
    "\n",
    "def remove_labels(actual, pred, labels):\n",
    "    for label in labels:\n",
    "        ind = actual == label\n",
    "        actual = np.delete(actual, ind)\n",
    "        pred = np.delete(pred, ind)\n",
    "        ind = pred == label\n",
    "        actual = np.delete(actual, ind)\n",
    "        pred = np.delete(pred, ind)\n",
    "    return (actual, pred)\n",
    "\n",
    "\n",
    "def num_matches(pred, target):\n",
    "    labels = get_labels(pred)\n",
    "    matches = labels.eq(target)  # [[[True, False, True, ...],..],...]\n",
    "    num_matches = matches.view(-1).float().sum().item()\n",
    "    return num_matches\n",
    "\n",
    "\n",
    "def try_restore():\n",
    "    global Net, optimizer\n",
    "    epoch = 0\n",
    "    if os.path.exists(training_restore_path):\n",
    "        state = torch.load(training_restore_path)\n",
    "        epoch = state['epoch']\n",
    "        Net = state['net']\n",
    "        optimizer = state['opt']\n",
    "    return epoch"
   ],
   "metadata": {
    "collapsed": false
   }
  },
  {
   "cell_type": "markdown",
   "source": [
    "## Training method\n",
    "In my part, I trained the model for 50 epoches and the modify the training code in order to suitable for the multiple layers in U2Net."
   ],
   "metadata": {
    "collapsed": false
   }
  },
  {
   "cell_type": "code",
   "execution_count": 12,
   "id": "3496bc94-86ec-426c-8b9d-bb04a26bc75d",
   "metadata": {},
   "outputs": [
    {
     "name": "stderr",
     "output_type": "stream",
     "text": [
      "  0%|          | 0/81 [00:00<?, ?it/s]/Users/mac/PycharmProjects/pythonProject6/venv/lib/python3.10/site-packages/torch/nn/functional.py:3734: UserWarning: nn.functional.upsample is deprecated. Use nn.functional.interpolate instead.\n",
      "  warnings.warn(\"nn.functional.upsample is deprecated. Use nn.functional.interpolate instead.\")\n",
      "100%|██████████| 81/81 [02:14<00:00,  1.66s/it]\n"
     ]
    },
    {
     "name": "stdout",
     "output_type": "stream",
     "text": [
      "ep:    0 loss: 1.1980 acc: 72.39\n"
     ]
    },
    {
     "name": "stderr",
     "output_type": "stream",
     "text": [
      "100%|██████████| 81/81 [02:10<00:00,  1.61s/it]\n"
     ]
    },
    {
     "name": "stdout",
     "output_type": "stream",
     "text": [
      "ep:    1 loss: 0.9259 acc: 79.42\n"
     ]
    },
    {
     "name": "stderr",
     "output_type": "stream",
     "text": [
      "100%|██████████| 81/81 [02:08<00:00,  1.59s/it]\n"
     ]
    },
    {
     "name": "stdout",
     "output_type": "stream",
     "text": [
      "ep:    2 loss: 0.7901 acc: 79.89\n"
     ]
    },
    {
     "name": "stderr",
     "output_type": "stream",
     "text": [
      "100%|██████████| 81/81 [02:11<00:00,  1.62s/it]\n"
     ]
    },
    {
     "name": "stdout",
     "output_type": "stream",
     "text": [
      "ep:    3 loss: 0.7052 acc: 80.66\n"
     ]
    },
    {
     "name": "stderr",
     "output_type": "stream",
     "text": [
      "100%|██████████| 81/81 [02:36<00:00,  1.93s/it]\n"
     ]
    },
    {
     "name": "stdout",
     "output_type": "stream",
     "text": [
      "ep:    4 loss: 0.6458 acc: 81.54\n"
     ]
    },
    {
     "name": "stderr",
     "output_type": "stream",
     "text": [
      "100%|██████████| 81/81 [02:15<00:00,  1.68s/it]\n"
     ]
    },
    {
     "name": "stdout",
     "output_type": "stream",
     "text": [
      "ep:    5 loss: 0.6101 acc: 82.55\n"
     ]
    },
    {
     "name": "stderr",
     "output_type": "stream",
     "text": [
      "100%|██████████| 81/81 [02:19<00:00,  1.72s/it]\n"
     ]
    },
    {
     "name": "stdout",
     "output_type": "stream",
     "text": [
      "ep:    6 loss: 0.5610 acc: 83.86\n"
     ]
    },
    {
     "name": "stderr",
     "output_type": "stream",
     "text": [
      "100%|██████████| 81/81 [02:04<00:00,  1.53s/it]\n"
     ]
    },
    {
     "name": "stdout",
     "output_type": "stream",
     "text": [
      "ep:    7 loss: 0.5307 acc: 84.67\n"
     ]
    },
    {
     "name": "stderr",
     "output_type": "stream",
     "text": [
      "100%|██████████| 81/81 [02:12<00:00,  1.64s/it]\n"
     ]
    },
    {
     "name": "stdout",
     "output_type": "stream",
     "text": [
      "ep:    8 loss: 0.5120 acc: 85.45\n"
     ]
    },
    {
     "name": "stderr",
     "output_type": "stream",
     "text": [
      "100%|██████████| 81/81 [02:14<00:00,  1.66s/it]\n"
     ]
    },
    {
     "name": "stdout",
     "output_type": "stream",
     "text": [
      "ep:    9 loss: 0.4732 acc: 86.21\n"
     ]
    },
    {
     "name": "stderr",
     "output_type": "stream",
     "text": [
      "100%|██████████| 81/81 [02:16<00:00,  1.68s/it]\n"
     ]
    },
    {
     "name": "stdout",
     "output_type": "stream",
     "text": [
      "ep:   10 loss: 0.4461 acc: 87.11\n"
     ]
    },
    {
     "name": "stderr",
     "output_type": "stream",
     "text": [
      "100%|██████████| 81/81 [02:11<00:00,  1.62s/it]\n"
     ]
    },
    {
     "name": "stdout",
     "output_type": "stream",
     "text": [
      "ep:   11 loss: 0.4209 acc: 87.93\n"
     ]
    },
    {
     "name": "stderr",
     "output_type": "stream",
     "text": [
      "100%|██████████| 81/81 [02:10<00:00,  1.61s/it]\n"
     ]
    },
    {
     "name": "stdout",
     "output_type": "stream",
     "text": [
      "ep:   12 loss: 0.3785 acc: 88.67\n"
     ]
    },
    {
     "name": "stderr",
     "output_type": "stream",
     "text": [
      "100%|██████████| 81/81 [02:40<00:00,  1.98s/it]\n"
     ]
    },
    {
     "name": "stdout",
     "output_type": "stream",
     "text": [
      "ep:   13 loss: 0.3618 acc: 89.28\n"
     ]
    },
    {
     "name": "stderr",
     "output_type": "stream",
     "text": [
      "100%|██████████| 81/81 [02:17<00:00,  1.70s/it]\n"
     ]
    },
    {
     "name": "stdout",
     "output_type": "stream",
     "text": [
      "ep:   14 loss: 0.3299 acc: 89.89\n"
     ]
    },
    {
     "name": "stderr",
     "output_type": "stream",
     "text": [
      "100%|██████████| 81/81 [02:40<00:00,  1.98s/it]\n"
     ]
    },
    {
     "name": "stdout",
     "output_type": "stream",
     "text": [
      "ep:   15 loss: 0.2941 acc: 90.49\n"
     ]
    },
    {
     "name": "stderr",
     "output_type": "stream",
     "text": [
      "100%|██████████| 81/81 [02:38<00:00,  1.96s/it]\n"
     ]
    },
    {
     "name": "stdout",
     "output_type": "stream",
     "text": [
      "ep:   16 loss: 0.2686 acc: 91.11\n"
     ]
    },
    {
     "name": "stderr",
     "output_type": "stream",
     "text": [
      "100%|██████████| 81/81 [02:30<00:00,  1.85s/it]\n"
     ]
    },
    {
     "name": "stdout",
     "output_type": "stream",
     "text": [
      "ep:   17 loss: 0.2415 acc: 91.71\n"
     ]
    },
    {
     "name": "stderr",
     "output_type": "stream",
     "text": [
      "100%|██████████| 81/81 [02:41<00:00,  1.99s/it]\n"
     ]
    },
    {
     "name": "stdout",
     "output_type": "stream",
     "text": [
      "ep:   18 loss: 0.2249 acc: 92.11\n"
     ]
    },
    {
     "name": "stderr",
     "output_type": "stream",
     "text": [
      "100%|██████████| 81/81 [02:29<00:00,  1.84s/it]\n"
     ]
    },
    {
     "name": "stdout",
     "output_type": "stream",
     "text": [
      "ep:   19 loss: 0.2218 acc: 92.42\n"
     ]
    },
    {
     "name": "stderr",
     "output_type": "stream",
     "text": [
      "100%|██████████| 81/81 [02:10<00:00,  1.61s/it]\n"
     ]
    },
    {
     "name": "stdout",
     "output_type": "stream",
     "text": [
      "ep:   20 loss: 0.2001 acc: 92.60\n"
     ]
    },
    {
     "name": "stderr",
     "output_type": "stream",
     "text": [
      "100%|██████████| 81/81 [02:04<00:00,  1.53s/it]\n"
     ]
    },
    {
     "name": "stdout",
     "output_type": "stream",
     "text": [
      "ep:   21 loss: 0.1919 acc: 92.76\n"
     ]
    },
    {
     "name": "stderr",
     "output_type": "stream",
     "text": [
      "100%|██████████| 81/81 [02:04<00:00,  1.54s/it]\n"
     ]
    },
    {
     "name": "stdout",
     "output_type": "stream",
     "text": [
      "ep:   22 loss: 0.1848 acc: 92.90\n"
     ]
    },
    {
     "name": "stderr",
     "output_type": "stream",
     "text": [
      "100%|██████████| 81/81 [02:03<00:00,  1.53s/it]\n"
     ]
    },
    {
     "name": "stdout",
     "output_type": "stream",
     "text": [
      "ep:   23 loss: 0.1851 acc: 93.09\n"
     ]
    },
    {
     "name": "stderr",
     "output_type": "stream",
     "text": [
      "100%|██████████| 81/81 [20:41<00:00, 15.33s/it]   \n"
     ]
    },
    {
     "name": "stdout",
     "output_type": "stream",
     "text": [
      "ep:   24 loss: 0.1774 acc: 93.47\n"
     ]
    },
    {
     "name": "stderr",
     "output_type": "stream",
     "text": [
      "100%|██████████| 81/81 [02:26<00:00,  1.81s/it]\n"
     ]
    },
    {
     "name": "stdout",
     "output_type": "stream",
     "text": [
      "ep:   25 loss: 0.1667 acc: 93.79\n"
     ]
    },
    {
     "name": "stderr",
     "output_type": "stream",
     "text": [
      "100%|██████████| 81/81 [02:28<00:00,  1.83s/it]\n"
     ]
    },
    {
     "name": "stdout",
     "output_type": "stream",
     "text": [
      "ep:   26 loss: 0.1530 acc: 94.11\n"
     ]
    },
    {
     "name": "stderr",
     "output_type": "stream",
     "text": [
      "100%|██████████| 81/81 [02:20<00:00,  1.73s/it]\n"
     ]
    },
    {
     "name": "stdout",
     "output_type": "stream",
     "text": [
      "ep:   27 loss: 0.1496 acc: 94.39\n"
     ]
    },
    {
     "name": "stderr",
     "output_type": "stream",
     "text": [
      "100%|██████████| 81/81 [02:06<00:00,  1.56s/it]\n"
     ]
    },
    {
     "name": "stdout",
     "output_type": "stream",
     "text": [
      "ep:   28 loss: 0.1458 acc: 94.58\n"
     ]
    },
    {
     "name": "stderr",
     "output_type": "stream",
     "text": [
      "100%|██████████| 81/81 [02:09<00:00,  1.60s/it]\n"
     ]
    },
    {
     "name": "stdout",
     "output_type": "stream",
     "text": [
      "ep:   29 loss: 0.1334 acc: 94.72\n"
     ]
    },
    {
     "name": "stderr",
     "output_type": "stream",
     "text": [
      "100%|██████████| 81/81 [02:10<00:00,  1.61s/it]\n"
     ]
    },
    {
     "name": "stdout",
     "output_type": "stream",
     "text": [
      "ep:   30 loss: 0.1279 acc: 94.87\n"
     ]
    },
    {
     "name": "stderr",
     "output_type": "stream",
     "text": [
      "100%|██████████| 81/81 [02:06<00:00,  1.56s/it]\n"
     ]
    },
    {
     "name": "stdout",
     "output_type": "stream",
     "text": [
      "ep:   31 loss: 0.1270 acc: 95.00\n"
     ]
    },
    {
     "name": "stderr",
     "output_type": "stream",
     "text": [
      "100%|██████████| 81/81 [02:03<00:00,  1.53s/it]\n"
     ]
    },
    {
     "name": "stdout",
     "output_type": "stream",
     "text": [
      "ep:   32 loss: 0.1205 acc: 95.05\n"
     ]
    },
    {
     "name": "stderr",
     "output_type": "stream",
     "text": [
      "100%|██████████| 81/81 [02:03<00:00,  1.53s/it]\n"
     ]
    },
    {
     "name": "stdout",
     "output_type": "stream",
     "text": [
      "ep:   33 loss: 0.1194 acc: 95.10\n"
     ]
    },
    {
     "name": "stderr",
     "output_type": "stream",
     "text": [
      "100%|██████████| 81/81 [02:06<00:00,  1.56s/it]\n"
     ]
    },
    {
     "name": "stdout",
     "output_type": "stream",
     "text": [
      "ep:   34 loss: 0.1185 acc: 95.19\n"
     ]
    },
    {
     "name": "stderr",
     "output_type": "stream",
     "text": [
      "100%|██████████| 81/81 [02:05<00:00,  1.55s/it]\n"
     ]
    },
    {
     "name": "stdout",
     "output_type": "stream",
     "text": [
      "ep:   35 loss: 0.1210 acc: 95.24\n"
     ]
    },
    {
     "name": "stderr",
     "output_type": "stream",
     "text": [
      "100%|██████████| 81/81 [02:04<00:00,  1.54s/it]\n"
     ]
    },
    {
     "name": "stdout",
     "output_type": "stream",
     "text": [
      "ep:   36 loss: 0.1158 acc: 95.32\n"
     ]
    },
    {
     "name": "stderr",
     "output_type": "stream",
     "text": [
      "100%|██████████| 81/81 [02:04<00:00,  1.54s/it]\n"
     ]
    },
    {
     "name": "stdout",
     "output_type": "stream",
     "text": [
      "ep:   37 loss: 0.1099 acc: 95.28\n"
     ]
    },
    {
     "name": "stderr",
     "output_type": "stream",
     "text": [
      "100%|██████████| 81/81 [02:12<00:00,  1.64s/it]\n"
     ]
    },
    {
     "name": "stdout",
     "output_type": "stream",
     "text": [
      "ep:   38 loss: 0.1087 acc: 95.31\n"
     ]
    },
    {
     "name": "stderr",
     "output_type": "stream",
     "text": [
      "100%|██████████| 81/81 [02:17<00:00,  1.70s/it]\n"
     ]
    },
    {
     "name": "stdout",
     "output_type": "stream",
     "text": [
      "ep:   39 loss: 0.1114 acc: 95.37\n"
     ]
    },
    {
     "name": "stderr",
     "output_type": "stream",
     "text": [
      "100%|██████████| 81/81 [02:10<00:00,  1.61s/it]\n"
     ]
    },
    {
     "name": "stdout",
     "output_type": "stream",
     "text": [
      "ep:   40 loss: 0.1052 acc: 95.47\n"
     ]
    },
    {
     "name": "stderr",
     "output_type": "stream",
     "text": [
      "100%|██████████| 81/81 [02:17<00:00,  1.70s/it]\n"
     ]
    },
    {
     "name": "stdout",
     "output_type": "stream",
     "text": [
      "ep:   41 loss: 0.1129 acc: 95.54\n"
     ]
    },
    {
     "name": "stderr",
     "output_type": "stream",
     "text": [
      "100%|██████████| 81/81 [02:20<00:00,  1.73s/it]\n"
     ]
    },
    {
     "name": "stdout",
     "output_type": "stream",
     "text": [
      "ep:   42 loss: 0.1011 acc: 95.79\n"
     ]
    },
    {
     "name": "stderr",
     "output_type": "stream",
     "text": [
      "100%|██████████| 81/81 [02:11<00:00,  1.62s/it]\n"
     ]
    },
    {
     "name": "stdout",
     "output_type": "stream",
     "text": [
      "ep:   43 loss: 0.0909 acc: 95.93\n"
     ]
    },
    {
     "name": "stderr",
     "output_type": "stream",
     "text": [
      "100%|██████████| 81/81 [02:05<00:00,  1.55s/it]\n"
     ]
    },
    {
     "name": "stdout",
     "output_type": "stream",
     "text": [
      "ep:   44 loss: 0.0902 acc: 96.04\n"
     ]
    },
    {
     "name": "stderr",
     "output_type": "stream",
     "text": [
      "100%|██████████| 81/81 [02:05<00:00,  1.55s/it]\n"
     ]
    },
    {
     "name": "stdout",
     "output_type": "stream",
     "text": [
      "ep:   45 loss: 0.0919 acc: 96.13\n"
     ]
    },
    {
     "name": "stderr",
     "output_type": "stream",
     "text": [
      "100%|██████████| 81/81 [02:05<00:00,  1.55s/it]\n"
     ]
    },
    {
     "name": "stdout",
     "output_type": "stream",
     "text": [
      "ep:   46 loss: 0.0848 acc: 96.16\n"
     ]
    },
    {
     "name": "stderr",
     "output_type": "stream",
     "text": [
      "100%|██████████| 81/81 [02:05<00:00,  1.55s/it]\n"
     ]
    },
    {
     "name": "stdout",
     "output_type": "stream",
     "text": [
      "ep:   47 loss: 0.0846 acc: 96.22\n"
     ]
    },
    {
     "name": "stderr",
     "output_type": "stream",
     "text": [
      "100%|██████████| 81/81 [02:03<00:00,  1.53s/it]\n"
     ]
    },
    {
     "name": "stdout",
     "output_type": "stream",
     "text": [
      "ep:   48 loss: 0.0890 acc: 96.30\n"
     ]
    },
    {
     "name": "stderr",
     "output_type": "stream",
     "text": [
      "100%|██████████| 81/81 [02:04<00:00,  1.54s/it]"
     ]
    },
    {
     "name": "stdout",
     "output_type": "stream",
     "text": [
      "ep:   49 loss: 0.0783 acc: 96.33\n"
     ]
    },
    {
     "name": "stderr",
     "output_type": "stream",
     "text": [
      "\n"
     ]
    }
   ],
   "source": [
    "def train(save=True, epoch=0):\n",
    "    Net.train()\n",
    "    dataset = torch.utils.data.TensorDataset(train_data, train_target)\n",
    "    dataloader = torch.utils.data.DataLoader(dataset, batch_size=10)\n",
    "    criterion = torch.nn.CrossEntropyLoss().to(device)\n",
    "    for epoch in range(epoch, 50):\n",
    "        correct = 0\n",
    "        total = 0\n",
    "        for (data, target) in tqdm(dataloader):\n",
    "            optimizer.zero_grad()\n",
    "            data = data.type(torch.FloatTensor).to(device)\n",
    "            d0, d1, d2, d3, d4, d5, d6 = Net(data)\n",
    "            target = target.type(torch.LongTensor).to(device)\n",
    "\n",
    "            loss0 = criterion(d0, target)\n",
    "            loss1 = criterion(d1, target)\n",
    "            loss2 = criterion(d2, target)\n",
    "            loss3 = criterion(d3, target)\n",
    "            loss4 = criterion(d4, target)\n",
    "            loss5 = criterion(d5, target)\n",
    "            loss6 = criterion(d6, target)\n",
    "            del d1, d2, d3, d4, d5, d6\n",
    "\n",
    "            total_loss = loss0 * 1.5 + loss1 + loss2 + loss3 + loss4 + loss5 + loss6\n",
    "            d0_loss = loss0\n",
    "\n",
    "            total_loss.backward()\n",
    "            optimizer.step()\n",
    "\n",
    "            correct += num_matches(d0, target)\n",
    "            total += target.size()[0] * target.size()[1] * target.size()[2]\n",
    "        accuracy = 100 * correct / total\n",
    "        print('ep:%5d loss: %6.4f acc: %5.2f' % (epoch, d0_loss.item(), accuracy))\n",
    "        if save and epoch % 5 == 0:\n",
    "            torch.save({'epoch': epoch, 'net': Net, 'opt': optimizer}, training_restore_path)\n",
    "\n",
    "\n",
    "\n",
    "train()\n"
   ]
  },
  {
   "cell_type": "markdown",
   "source": [],
   "metadata": {
    "collapsed": false
   }
  },
  {
   "cell_type": "code",
   "execution_count": null,
   "outputs": [],
   "source": [
    "def eval():\n",
    "    Net.eval()\n",
    "    dataset = torch.utils.data.TensorDataset(test_data, test_target)\n",
    "    dataloader = torch.utils.data.DataLoader(dataset, batch_size=1)\n",
    "    criterion = torch.nn.CrossEntropyLoss().to(device)\n",
    "    correct = 0\n",
    "    total = 0\n",
    "    loss = 0\n",
    "    preds = []\n",
    "    labels = []\n",
    "\n",
    "    for data, target in dataloader:\n",
    "        labels.append(np.array(target))\n",
    "        data = data.type(torch.FloatTensor).to(device)\n",
    "        target = target.type(torch.LongTensor).to(device)\n",
    "        with torch.no_grad():\n",
    "            pred = Net(data)\n",
    "\n",
    "        preds.append(np.array(get_labels(pred[0]).to(torch.device('cpu'))))\n",
    "        loss += criterion(pred[0], target).item()\n",
    "        correct += num_matches(pred[0], target)\n",
    "        total += target.size()[0] * target.size()[1] * target.size()[2]\n",
    "    accuracy = 100 * correct / total\n",
    "    loss = loss / len(preds)\n",
    "    print('avg loss: %6.4f acc: %5.2f' % (loss, accuracy))\n",
    "    return (np.array(labels).flatten(), np.array(preds).flatten())\n",
    "\n",
    "eval()"
   ],
   "metadata": {
    "collapsed": false,
    "pycharm": {
     "is_executing": true
    }
   }
  },
  {
   "cell_type": "markdown",
   "source": [
    "## Result & Discussion\n",
    "\n",
    "As we can see from the picture below, the outcome from this model still has some deviation about the actural one. It due to some color loss and predict with others.\n",
    "\n",
    "The training method in this project got some loss may due to the higher weight of our dataset, but we could still use the U2Net model to figure it through putting more stage in the Unet."
   ],
   "metadata": {
    "collapsed": false
   }
  },
  {
   "cell_type": "code",
   "execution_count": 41,
   "outputs": [
    {
     "name": "stderr",
     "output_type": "stream",
     "text": [
      "/Users/mac/PycharmProjects/pythonProject6/venv/lib/python3.10/site-packages/torch/nn/functional.py:3734: UserWarning: nn.functional.upsample is deprecated. Use nn.functional.interpolate instead.\n",
      "  warnings.warn(\"nn.functional.upsample is deprecated. Use nn.functional.interpolate instead.\")\n"
     ]
    },
    {
     "data": {
      "text/plain": "<Figure size 900x500 with 2 Axes>",
      "image/png": "[encoded data removed]"
     },
     "metadata": {},
     "output_type": "display_data"
    }
   ],
   "source": [
    "def show_sample():\n",
    "    Net.eval()\n",
    "    img = test_data[110:111].type(torch.FloatTensor).to(device)\n",
    "    with torch.no_grad():\n",
    "        pred = Net(img)\n",
    "    pred_ann = get_labels(pred[0])\n",
    "    return (pred[0].to(torch.device('cpu')),    # prediction\n",
    "            pred_ann[0].to(torch.device('cpu')),# predicted annotations\n",
    "            tf.ToPILImage()(test_data[110]),      # actual image\n",
    "            test_target[110])                     # actual annotations\n",
    "\n",
    "\n",
    "# quick fix to label2rgb to make sure labels stay consistent across images\n",
    "def label2rgb_consistent(labels, img, max_label):\n",
    "    labels = np.uint8(labels)\n",
    "    img = np.uint8(img)\n",
    "\n",
    "    # ensure labels occur in ascending order to make label2rgb map it to the same color\n",
    "    pad_with = np.uint8(range(0, min(len(labels[0]), max_label)))\n",
    "    if len(pad_with) < len(labels[2]):\n",
    "        pad_with = np.concatenate([pad_with, np.zeros(len(labels[0])-len(pad_with))])\n",
    "    pad_with = np.array([pad_with])\n",
    "\n",
    "    labels[1] = pad_with # add phony labels\n",
    "    result = color.label2rgb(labels, img)\n",
    "    result[1] = img[1] # remove phony labels\n",
    "\n",
    "    # scale to uni8 to get rid of warnings\n",
    "    result = (result*255).astype(np.uint8)\n",
    "    return result\n",
    "\n",
    "(pred, pred_ann, img, actual_ann) = show_sample()\n",
    "\n",
    "fig, axes = plt.subplots(nrows=1, ncols=2, figsize=(9, 5),\n",
    "                         sharex=True, sharey=True)\n",
    "\n",
    "\n",
    "actual_result = label2rgb_consistent(actual_ann, img, 59)\n",
    "pred_result = label2rgb_consistent(pred_ann, img, 59)\n",
    "\n",
    "axes[0].imshow(actual_result)\n",
    "axes[0].set_title('Actual')\n",
    "axes[1].imshow(pred_result)\n",
    "axes[1].set_title('Predicted')\n",
    "for a in axes:\n",
    "    a.axis('off')\n",
    "\n",
    "fig.tight_layout()\n",
    "plt.show()"
   ],
   "metadata": {
    "collapsed": false
   }
  },
  {
   "cell_type": "code",
   "execution_count": 43,
   "id": "2e2a75c5-8ee0-417a-86e6-bf86cbed4415",
   "metadata": {},
   "outputs": [
    {
     "name": "stdout",
     "output_type": "stream",
     "text": [
      "stage1.rebnconvin.conv_s1.weight torch.Size([64, 3, 3, 3]) this param 1728 total 1728\n",
      "stage1.rebnconvin.conv_s1.bias torch.Size([64]) this param 64 total 1792\n",
      "stage1.rebnconvin.bn_s1.weight torch.Size([64]) this param 64 total 1856\n",
      "stage1.rebnconvin.bn_s1.bias torch.Size([64]) this param 64 total 1920\n",
      "stage1.rebnconv1.conv_s1.weight torch.Size([32, 64, 3, 3]) this param 18432 total 20352\n",
      "stage1.rebnconv1.conv_s1.bias torch.Size([32]) this param 32 total 20384\n",
      "stage1.rebnconv1.bn_s1.weight torch.Size([32]) this param 32 total 20416\n",
      "stage1.rebnconv1.bn_s1.bias torch.Size([32]) this param 32 total 20448\n",
      "stage1.rebnconv2.conv_s1.weight torch.Size([32, 32, 3, 3]) this param 9216 total 29664\n",
      "stage1.rebnconv2.conv_s1.bias torch.Size([32]) this param 32 total 29696\n",
      "stage1.rebnconv2.bn_s1.weight torch.Size([32]) this param 32 total 29728\n",
      "stage1.rebnconv2.bn_s1.bias torch.Size([32]) this param 32 total 29760\n",
      "stage1.rebnconv3.conv_s1.weight torch.Size([32, 32, 3, 3]) this param 9216 total 38976\n",
      "stage1.rebnconv3.conv_s1.bias torch.Size([32]) this param 32 total 39008\n",
      "stage1.rebnconv3.bn_s1.weight torch.Size([32]) this param 32 total 39040\n",
      "stage1.rebnconv3.bn_s1.bias torch.Size([32]) this param 32 total 39072\n",
      "stage1.rebnconv4.conv_s1.weight torch.Size([32, 32, 3, 3]) this param 9216 total 48288\n",
      "stage1.rebnconv4.conv_s1.bias torch.Size([32]) this param 32 total 48320\n",
      "stage1.rebnconv4.bn_s1.weight torch.Size([32]) this param 32 total 48352\n",
      "stage1.rebnconv4.bn_s1.bias torch.Size([32]) this param 32 total 48384\n",
      "stage1.rebnconv5.conv_s1.weight torch.Size([32, 32, 3, 3]) this param 9216 total 57600\n",
      "stage1.rebnconv5.conv_s1.bias torch.Size([32]) this param 32 total 57632\n",
      "stage1.rebnconv5.bn_s1.weight torch.Size([32]) this param 32 total 57664\n",
      "stage1.rebnconv5.bn_s1.bias torch.Size([32]) this param 32 total 57696\n",
      "stage1.rebnconv6.conv_s1.weight torch.Size([32, 32, 3, 3]) this param 9216 total 66912\n",
      "stage1.rebnconv6.conv_s1.bias torch.Size([32]) this param 32 total 66944\n",
      "stage1.rebnconv6.bn_s1.weight torch.Size([32]) this param 32 total 66976\n",
      "stage1.rebnconv6.bn_s1.bias torch.Size([32]) this param 32 total 67008\n",
      "stage1.rebnconv7.conv_s1.weight torch.Size([32, 32, 3, 3]) this param 9216 total 76224\n",
      "stage1.rebnconv7.conv_s1.bias torch.Size([32]) this param 32 total 76256\n",
      "stage1.rebnconv7.bn_s1.weight torch.Size([32]) this param 32 total 76288\n",
      "stage1.rebnconv7.bn_s1.bias torch.Size([32]) this param 32 total 76320\n",
      "stage1.rebnconv6d.conv_s1.weight torch.Size([32, 64, 3, 3]) this param 18432 total 94752\n",
      "stage1.rebnconv6d.conv_s1.bias torch.Size([32]) this param 32 total 94784\n",
      "stage1.rebnconv6d.bn_s1.weight torch.Size([32]) this param 32 total 94816\n",
      "stage1.rebnconv6d.bn_s1.bias torch.Size([32]) this param 32 total 94848\n",
      "stage1.rebnconv5d.conv_s1.weight torch.Size([32, 64, 3, 3]) this param 18432 total 113280\n",
      "stage1.rebnconv5d.conv_s1.bias torch.Size([32]) this param 32 total 113312\n",
      "stage1.rebnconv5d.bn_s1.weight torch.Size([32]) this param 32 total 113344\n",
      "stage1.rebnconv5d.bn_s1.bias torch.Size([32]) this param 32 total 113376\n",
      "stage1.rebnconv4d.conv_s1.weight torch.Size([32, 64, 3, 3]) this param 18432 total 131808\n",
      "stage1.rebnconv4d.conv_s1.bias torch.Size([32]) this param 32 total 131840\n",
      "stage1.rebnconv4d.bn_s1.weight torch.Size([32]) this param 32 total 131872\n",
      "stage1.rebnconv4d.bn_s1.bias torch.Size([32]) this param 32 total 131904\n",
      "stage1.rebnconv3d.conv_s1.weight torch.Size([32, 64, 3, 3]) this param 18432 total 150336\n",
      "stage1.rebnconv3d.conv_s1.bias torch.Size([32]) this param 32 total 150368\n",
      "stage1.rebnconv3d.bn_s1.weight torch.Size([32]) this param 32 total 150400\n",
      "stage1.rebnconv3d.bn_s1.bias torch.Size([32]) this param 32 total 150432\n",
      "stage1.rebnconv2d.conv_s1.weight torch.Size([32, 64, 3, 3]) this param 18432 total 168864\n",
      "stage1.rebnconv2d.conv_s1.bias torch.Size([32]) this param 32 total 168896\n",
      "stage1.rebnconv2d.bn_s1.weight torch.Size([32]) this param 32 total 168928\n",
      "stage1.rebnconv2d.bn_s1.bias torch.Size([32]) this param 32 total 168960\n",
      "stage1.rebnconv1d.conv_s1.weight torch.Size([64, 64, 3, 3]) this param 36864 total 205824\n",
      "stage1.rebnconv1d.conv_s1.bias torch.Size([64]) this param 64 total 205888\n",
      "stage1.rebnconv1d.bn_s1.weight torch.Size([64]) this param 64 total 205952\n",
      "stage1.rebnconv1d.bn_s1.bias torch.Size([64]) this param 64 total 206016\n",
      "stage2.rebnconvin.conv_s1.weight torch.Size([128, 64, 3, 3]) this param 73728 total 279744\n",
      "stage2.rebnconvin.conv_s1.bias torch.Size([128]) this param 128 total 279872\n",
      "stage2.rebnconvin.bn_s1.weight torch.Size([128]) this param 128 total 280000\n",
      "stage2.rebnconvin.bn_s1.bias torch.Size([128]) this param 128 total 280128\n",
      "stage2.rebnconv1.conv_s1.weight torch.Size([32, 128, 3, 3]) this param 36864 total 316992\n",
      "stage2.rebnconv1.conv_s1.bias torch.Size([32]) this param 32 total 317024\n",
      "stage2.rebnconv1.bn_s1.weight torch.Size([32]) this param 32 total 317056\n",
      "stage2.rebnconv1.bn_s1.bias torch.Size([32]) this param 32 total 317088\n",
      "stage2.rebnconv2.conv_s1.weight torch.Size([32, 32, 3, 3]) this param 9216 total 326304\n",
      "stage2.rebnconv2.conv_s1.bias torch.Size([32]) this param 32 total 326336\n",
      "stage2.rebnconv2.bn_s1.weight torch.Size([32]) this param 32 total 326368\n",
      "stage2.rebnconv2.bn_s1.bias torch.Size([32]) this param 32 total 326400\n",
      "stage2.rebnconv3.conv_s1.weight torch.Size([32, 32, 3, 3]) this param 9216 total 335616\n",
      "stage2.rebnconv3.conv_s1.bias torch.Size([32]) this param 32 total 335648\n",
      "stage2.rebnconv3.bn_s1.weight torch.Size([32]) this param 32 total 335680\n",
      "stage2.rebnconv3.bn_s1.bias torch.Size([32]) this param 32 total 335712\n",
      "stage2.rebnconv4.conv_s1.weight torch.Size([32, 32, 3, 3]) this param 9216 total 344928\n",
      "stage2.rebnconv4.conv_s1.bias torch.Size([32]) this param 32 total 344960\n",
      "stage2.rebnconv4.bn_s1.weight torch.Size([32]) this param 32 total 344992\n",
      "stage2.rebnconv4.bn_s1.bias torch.Size([32]) this param 32 total 345024\n",
      "stage2.rebnconv5.conv_s1.weight torch.Size([32, 32, 3, 3]) this param 9216 total 354240\n",
      "stage2.rebnconv5.conv_s1.bias torch.Size([32]) this param 32 total 354272\n",
      "stage2.rebnconv5.bn_s1.weight torch.Size([32]) this param 32 total 354304\n",
      "stage2.rebnconv5.bn_s1.bias torch.Size([32]) this param 32 total 354336\n",
      "stage2.rebnconv6.conv_s1.weight torch.Size([32, 32, 3, 3]) this param 9216 total 363552\n",
      "stage2.rebnconv6.conv_s1.bias torch.Size([32]) this param 32 total 363584\n",
      "stage2.rebnconv6.bn_s1.weight torch.Size([32]) this param 32 total 363616\n",
      "stage2.rebnconv6.bn_s1.bias torch.Size([32]) this param 32 total 363648\n",
      "stage2.rebnconv5d.conv_s1.weight torch.Size([32, 64, 3, 3]) this param 18432 total 382080\n",
      "stage2.rebnconv5d.conv_s1.bias torch.Size([32]) this param 32 total 382112\n",
      "stage2.rebnconv5d.bn_s1.weight torch.Size([32]) this param 32 total 382144\n",
      "stage2.rebnconv5d.bn_s1.bias torch.Size([32]) this param 32 total 382176\n",
      "stage2.rebnconv4d.conv_s1.weight torch.Size([32, 64, 3, 3]) this param 18432 total 400608\n",
      "stage2.rebnconv4d.conv_s1.bias torch.Size([32]) this param 32 total 400640\n",
      "stage2.rebnconv4d.bn_s1.weight torch.Size([32]) this param 32 total 400672\n",
      "stage2.rebnconv4d.bn_s1.bias torch.Size([32]) this param 32 total 400704\n",
      "stage2.rebnconv3d.conv_s1.weight torch.Size([32, 64, 3, 3]) this param 18432 total 419136\n",
      "stage2.rebnconv3d.conv_s1.bias torch.Size([32]) this param 32 total 419168\n",
      "stage2.rebnconv3d.bn_s1.weight torch.Size([32]) this param 32 total 419200\n",
      "stage2.rebnconv3d.bn_s1.bias torch.Size([32]) this param 32 total 419232\n",
      "stage2.rebnconv2d.conv_s1.weight torch.Size([32, 64, 3, 3]) this param 18432 total 437664\n",
      "stage2.rebnconv2d.conv_s1.bias torch.Size([32]) this param 32 total 437696\n",
      "stage2.rebnconv2d.bn_s1.weight torch.Size([32]) this param 32 total 437728\n",
      "stage2.rebnconv2d.bn_s1.bias torch.Size([32]) this param 32 total 437760\n",
      "stage2.rebnconv1d.conv_s1.weight torch.Size([128, 64, 3, 3]) this param 73728 total 511488\n",
      "stage2.rebnconv1d.conv_s1.bias torch.Size([128]) this param 128 total 511616\n",
      "stage2.rebnconv1d.bn_s1.weight torch.Size([128]) this param 128 total 511744\n",
      "stage2.rebnconv1d.bn_s1.bias torch.Size([128]) this param 128 total 511872\n",
      "stage3.rebnconvin.conv_s1.weight torch.Size([256, 128, 3, 3]) this param 294912 total 806784\n",
      "stage3.rebnconvin.conv_s1.bias torch.Size([256]) this param 256 total 807040\n",
      "stage3.rebnconvin.bn_s1.weight torch.Size([256]) this param 256 total 807296\n",
      "stage3.rebnconvin.bn_s1.bias torch.Size([256]) this param 256 total 807552\n",
      "stage3.rebnconv1.conv_s1.weight torch.Size([64, 256, 3, 3]) this param 147456 total 955008\n",
      "stage3.rebnconv1.conv_s1.bias torch.Size([64]) this param 64 total 955072\n",
      "stage3.rebnconv1.bn_s1.weight torch.Size([64]) this param 64 total 955136\n",
      "stage3.rebnconv1.bn_s1.bias torch.Size([64]) this param 64 total 955200\n",
      "stage3.rebnconv2.conv_s1.weight torch.Size([64, 64, 3, 3]) this param 36864 total 992064\n",
      "stage3.rebnconv2.conv_s1.bias torch.Size([64]) this param 64 total 992128\n",
      "stage3.rebnconv2.bn_s1.weight torch.Size([64]) this param 64 total 992192\n",
      "stage3.rebnconv2.bn_s1.bias torch.Size([64]) this param 64 total 992256\n",
      "stage3.rebnconv3.conv_s1.weight torch.Size([64, 64, 3, 3]) this param 36864 total 1029120\n",
      "stage3.rebnconv3.conv_s1.bias torch.Size([64]) this param 64 total 1029184\n",
      "stage3.rebnconv3.bn_s1.weight torch.Size([64]) this param 64 total 1029248\n",
      "stage3.rebnconv3.bn_s1.bias torch.Size([64]) this param 64 total 1029312\n",
      "stage3.rebnconv4.conv_s1.weight torch.Size([64, 64, 3, 3]) this param 36864 total 1066176\n",
      "stage3.rebnconv4.conv_s1.bias torch.Size([64]) this param 64 total 1066240\n",
      "stage3.rebnconv4.bn_s1.weight torch.Size([64]) this param 64 total 1066304\n",
      "stage3.rebnconv4.bn_s1.bias torch.Size([64]) this param 64 total 1066368\n",
      "stage3.rebnconv5.conv_s1.weight torch.Size([64, 64, 3, 3]) this param 36864 total 1103232\n",
      "stage3.rebnconv5.conv_s1.bias torch.Size([64]) this param 64 total 1103296\n",
      "stage3.rebnconv5.bn_s1.weight torch.Size([64]) this param 64 total 1103360\n",
      "stage3.rebnconv5.bn_s1.bias torch.Size([64]) this param 64 total 1103424\n",
      "stage3.rebnconv4d.conv_s1.weight torch.Size([64, 128, 3, 3]) this param 73728 total 1177152\n",
      "stage3.rebnconv4d.conv_s1.bias torch.Size([64]) this param 64 total 1177216\n",
      "stage3.rebnconv4d.bn_s1.weight torch.Size([64]) this param 64 total 1177280\n",
      "stage3.rebnconv4d.bn_s1.bias torch.Size([64]) this param 64 total 1177344\n",
      "stage3.rebnconv3d.conv_s1.weight torch.Size([64, 128, 3, 3]) this param 73728 total 1251072\n",
      "stage3.rebnconv3d.conv_s1.bias torch.Size([64]) this param 64 total 1251136\n",
      "stage3.rebnconv3d.bn_s1.weight torch.Size([64]) this param 64 total 1251200\n",
      "stage3.rebnconv3d.bn_s1.bias torch.Size([64]) this param 64 total 1251264\n",
      "stage3.rebnconv2d.conv_s1.weight torch.Size([64, 128, 3, 3]) this param 73728 total 1324992\n",
      "stage3.rebnconv2d.conv_s1.bias torch.Size([64]) this param 64 total 1325056\n",
      "stage3.rebnconv2d.bn_s1.weight torch.Size([64]) this param 64 total 1325120\n",
      "stage3.rebnconv2d.bn_s1.bias torch.Size([64]) this param 64 total 1325184\n",
      "stage3.rebnconv1d.conv_s1.weight torch.Size([256, 128, 3, 3]) this param 294912 total 1620096\n",
      "stage3.rebnconv1d.conv_s1.bias torch.Size([256]) this param 256 total 1620352\n",
      "stage3.rebnconv1d.bn_s1.weight torch.Size([256]) this param 256 total 1620608\n",
      "stage3.rebnconv1d.bn_s1.bias torch.Size([256]) this param 256 total 1620864\n",
      "stage4.rebnconvin.conv_s1.weight torch.Size([512, 256, 3, 3]) this param 1179648 total 2800512\n",
      "stage4.rebnconvin.conv_s1.bias torch.Size([512]) this param 512 total 2801024\n",
      "stage4.rebnconvin.bn_s1.weight torch.Size([512]) this param 512 total 2801536\n",
      "stage4.rebnconvin.bn_s1.bias torch.Size([512]) this param 512 total 2802048\n",
      "stage4.rebnconv1.conv_s1.weight torch.Size([128, 512, 3, 3]) this param 589824 total 3391872\n",
      "stage4.rebnconv1.conv_s1.bias torch.Size([128]) this param 128 total 3392000\n",
      "stage4.rebnconv1.bn_s1.weight torch.Size([128]) this param 128 total 3392128\n",
      "stage4.rebnconv1.bn_s1.bias torch.Size([128]) this param 128 total 3392256\n",
      "stage4.rebnconv2.conv_s1.weight torch.Size([128, 128, 3, 3]) this param 147456 total 3539712\n",
      "stage4.rebnconv2.conv_s1.bias torch.Size([128]) this param 128 total 3539840\n",
      "stage4.rebnconv2.bn_s1.weight torch.Size([128]) this param 128 total 3539968\n",
      "stage4.rebnconv2.bn_s1.bias torch.Size([128]) this param 128 total 3540096\n",
      "stage4.rebnconv3.conv_s1.weight torch.Size([128, 128, 3, 3]) this param 147456 total 3687552\n",
      "stage4.rebnconv3.conv_s1.bias torch.Size([128]) this param 128 total 3687680\n",
      "stage4.rebnconv3.bn_s1.weight torch.Size([128]) this param 128 total 3687808\n",
      "stage4.rebnconv3.bn_s1.bias torch.Size([128]) this param 128 total 3687936\n",
      "stage4.rebnconv4.conv_s1.weight torch.Size([128, 128, 3, 3]) this param 147456 total 3835392\n",
      "stage4.rebnconv4.conv_s1.bias torch.Size([128]) this param 128 total 3835520\n",
      "stage4.rebnconv4.bn_s1.weight torch.Size([128]) this param 128 total 3835648\n",
      "stage4.rebnconv4.bn_s1.bias torch.Size([128]) this param 128 total 3835776\n",
      "stage4.rebnconv3d.conv_s1.weight torch.Size([128, 256, 3, 3]) this param 294912 total 4130688\n",
      "stage4.rebnconv3d.conv_s1.bias torch.Size([128]) this param 128 total 4130816\n",
      "stage4.rebnconv3d.bn_s1.weight torch.Size([128]) this param 128 total 4130944\n",
      "stage4.rebnconv3d.bn_s1.bias torch.Size([128]) this param 128 total 4131072\n",
      "stage4.rebnconv2d.conv_s1.weight torch.Size([128, 256, 3, 3]) this param 294912 total 4425984\n",
      "stage4.rebnconv2d.conv_s1.bias torch.Size([128]) this param 128 total 4426112\n",
      "stage4.rebnconv2d.bn_s1.weight torch.Size([128]) this param 128 total 4426240\n",
      "stage4.rebnconv2d.bn_s1.bias torch.Size([128]) this param 128 total 4426368\n",
      "stage4.rebnconv1d.conv_s1.weight torch.Size([512, 256, 3, 3]) this param 1179648 total 5606016\n",
      "stage4.rebnconv1d.conv_s1.bias torch.Size([512]) this param 512 total 5606528\n",
      "stage4.rebnconv1d.bn_s1.weight torch.Size([512]) this param 512 total 5607040\n",
      "stage4.rebnconv1d.bn_s1.bias torch.Size([512]) this param 512 total 5607552\n",
      "stage5.rebnconvin.conv_s1.weight torch.Size([512, 512, 3, 3]) this param 2359296 total 7966848\n",
      "stage5.rebnconvin.conv_s1.bias torch.Size([512]) this param 512 total 7967360\n",
      "stage5.rebnconvin.bn_s1.weight torch.Size([512]) this param 512 total 7967872\n",
      "stage5.rebnconvin.bn_s1.bias torch.Size([512]) this param 512 total 7968384\n",
      "stage5.rebnconv1.conv_s1.weight torch.Size([256, 512, 3, 3]) this param 1179648 total 9148032\n",
      "stage5.rebnconv1.conv_s1.bias torch.Size([256]) this param 256 total 9148288\n",
      "stage5.rebnconv1.bn_s1.weight torch.Size([256]) this param 256 total 9148544\n",
      "stage5.rebnconv1.bn_s1.bias torch.Size([256]) this param 256 total 9148800\n",
      "stage5.rebnconv2.conv_s1.weight torch.Size([256, 256, 3, 3]) this param 589824 total 9738624\n",
      "stage5.rebnconv2.conv_s1.bias torch.Size([256]) this param 256 total 9738880\n",
      "stage5.rebnconv2.bn_s1.weight torch.Size([256]) this param 256 total 9739136\n",
      "stage5.rebnconv2.bn_s1.bias torch.Size([256]) this param 256 total 9739392\n",
      "stage5.rebnconv3.conv_s1.weight torch.Size([256, 256, 3, 3]) this param 589824 total 10329216\n",
      "stage5.rebnconv3.conv_s1.bias torch.Size([256]) this param 256 total 10329472\n",
      "stage5.rebnconv3.bn_s1.weight torch.Size([256]) this param 256 total 10329728\n",
      "stage5.rebnconv3.bn_s1.bias torch.Size([256]) this param 256 total 10329984\n",
      "stage5.rebnconv4.conv_s1.weight torch.Size([256, 256, 3, 3]) this param 589824 total 10919808\n",
      "stage5.rebnconv4.conv_s1.bias torch.Size([256]) this param 256 total 10920064\n",
      "stage5.rebnconv4.bn_s1.weight torch.Size([256]) this param 256 total 10920320\n",
      "stage5.rebnconv4.bn_s1.bias torch.Size([256]) this param 256 total 10920576\n",
      "stage5.rebnconv3d.conv_s1.weight torch.Size([256, 512, 3, 3]) this param 1179648 total 12100224\n",
      "stage5.rebnconv3d.conv_s1.bias torch.Size([256]) this param 256 total 12100480\n",
      "stage5.rebnconv3d.bn_s1.weight torch.Size([256]) this param 256 total 12100736\n",
      "stage5.rebnconv3d.bn_s1.bias torch.Size([256]) this param 256 total 12100992\n",
      "stage5.rebnconv2d.conv_s1.weight torch.Size([256, 512, 3, 3]) this param 1179648 total 13280640\n",
      "stage5.rebnconv2d.conv_s1.bias torch.Size([256]) this param 256 total 13280896\n",
      "stage5.rebnconv2d.bn_s1.weight torch.Size([256]) this param 256 total 13281152\n",
      "stage5.rebnconv2d.bn_s1.bias torch.Size([256]) this param 256 total 13281408\n",
      "stage5.rebnconv1d.conv_s1.weight torch.Size([512, 512, 3, 3]) this param 2359296 total 15640704\n",
      "stage5.rebnconv1d.conv_s1.bias torch.Size([512]) this param 512 total 15641216\n",
      "stage5.rebnconv1d.bn_s1.weight torch.Size([512]) this param 512 total 15641728\n",
      "stage5.rebnconv1d.bn_s1.bias torch.Size([512]) this param 512 total 15642240\n",
      "stage6.rebnconvin.conv_s1.weight torch.Size([512, 512, 3, 3]) this param 2359296 total 18001536\n",
      "stage6.rebnconvin.conv_s1.bias torch.Size([512]) this param 512 total 18002048\n",
      "stage6.rebnconvin.bn_s1.weight torch.Size([512]) this param 512 total 18002560\n",
      "stage6.rebnconvin.bn_s1.bias torch.Size([512]) this param 512 total 18003072\n",
      "stage6.rebnconv1.conv_s1.weight torch.Size([256, 512, 3, 3]) this param 1179648 total 19182720\n",
      "stage6.rebnconv1.conv_s1.bias torch.Size([256]) this param 256 total 19182976\n",
      "stage6.rebnconv1.bn_s1.weight torch.Size([256]) this param 256 total 19183232\n",
      "stage6.rebnconv1.bn_s1.bias torch.Size([256]) this param 256 total 19183488\n",
      "stage6.rebnconv2.conv_s1.weight torch.Size([256, 256, 3, 3]) this param 589824 total 19773312\n",
      "stage6.rebnconv2.conv_s1.bias torch.Size([256]) this param 256 total 19773568\n",
      "stage6.rebnconv2.bn_s1.weight torch.Size([256]) this param 256 total 19773824\n",
      "stage6.rebnconv2.bn_s1.bias torch.Size([256]) this param 256 total 19774080\n",
      "stage6.rebnconv3.conv_s1.weight torch.Size([256, 256, 3, 3]) this param 589824 total 20363904\n",
      "stage6.rebnconv3.conv_s1.bias torch.Size([256]) this param 256 total 20364160\n",
      "stage6.rebnconv3.bn_s1.weight torch.Size([256]) this param 256 total 20364416\n",
      "stage6.rebnconv3.bn_s1.bias torch.Size([256]) this param 256 total 20364672\n",
      "stage6.rebnconv4.conv_s1.weight torch.Size([256, 256, 3, 3]) this param 589824 total 20954496\n",
      "stage6.rebnconv4.conv_s1.bias torch.Size([256]) this param 256 total 20954752\n",
      "stage6.rebnconv4.bn_s1.weight torch.Size([256]) this param 256 total 20955008\n",
      "stage6.rebnconv4.bn_s1.bias torch.Size([256]) this param 256 total 20955264\n",
      "stage6.rebnconv3d.conv_s1.weight torch.Size([256, 512, 3, 3]) this param 1179648 total 22134912\n",
      "stage6.rebnconv3d.conv_s1.bias torch.Size([256]) this param 256 total 22135168\n",
      "stage6.rebnconv3d.bn_s1.weight torch.Size([256]) this param 256 total 22135424\n",
      "stage6.rebnconv3d.bn_s1.bias torch.Size([256]) this param 256 total 22135680\n",
      "stage6.rebnconv2d.conv_s1.weight torch.Size([256, 512, 3, 3]) this param 1179648 total 23315328\n",
      "stage6.rebnconv2d.conv_s1.bias torch.Size([256]) this param 256 total 23315584\n",
      "stage6.rebnconv2d.bn_s1.weight torch.Size([256]) this param 256 total 23315840\n",
      "stage6.rebnconv2d.bn_s1.bias torch.Size([256]) this param 256 total 23316096\n",
      "stage6.rebnconv1d.conv_s1.weight torch.Size([512, 512, 3, 3]) this param 2359296 total 25675392\n",
      "stage6.rebnconv1d.conv_s1.bias torch.Size([512]) this param 512 total 25675904\n",
      "stage6.rebnconv1d.bn_s1.weight torch.Size([512]) this param 512 total 25676416\n",
      "stage6.rebnconv1d.bn_s1.bias torch.Size([512]) this param 512 total 25676928\n",
      "stage5d.rebnconvin.conv_s1.weight torch.Size([512, 1024, 3, 3]) this param 4718592 total 30395520\n",
      "stage5d.rebnconvin.conv_s1.bias torch.Size([512]) this param 512 total 30396032\n",
      "stage5d.rebnconvin.bn_s1.weight torch.Size([512]) this param 512 total 30396544\n",
      "stage5d.rebnconvin.bn_s1.bias torch.Size([512]) this param 512 total 30397056\n",
      "stage5d.rebnconv1.conv_s1.weight torch.Size([256, 512, 3, 3]) this param 1179648 total 31576704\n",
      "stage5d.rebnconv1.conv_s1.bias torch.Size([256]) this param 256 total 31576960\n",
      "stage5d.rebnconv1.bn_s1.weight torch.Size([256]) this param 256 total 31577216\n",
      "stage5d.rebnconv1.bn_s1.bias torch.Size([256]) this param 256 total 31577472\n",
      "stage5d.rebnconv2.conv_s1.weight torch.Size([256, 256, 3, 3]) this param 589824 total 32167296\n",
      "stage5d.rebnconv2.conv_s1.bias torch.Size([256]) this param 256 total 32167552\n",
      "stage5d.rebnconv2.bn_s1.weight torch.Size([256]) this param 256 total 32167808\n",
      "stage5d.rebnconv2.bn_s1.bias torch.Size([256]) this param 256 total 32168064\n",
      "stage5d.rebnconv3.conv_s1.weight torch.Size([256, 256, 3, 3]) this param 589824 total 32757888\n",
      "stage5d.rebnconv3.conv_s1.bias torch.Size([256]) this param 256 total 32758144\n",
      "stage5d.rebnconv3.bn_s1.weight torch.Size([256]) this param 256 total 32758400\n",
      "stage5d.rebnconv3.bn_s1.bias torch.Size([256]) this param 256 total 32758656\n",
      "stage5d.rebnconv4.conv_s1.weight torch.Size([256, 256, 3, 3]) this param 589824 total 33348480\n",
      "stage5d.rebnconv4.conv_s1.bias torch.Size([256]) this param 256 total 33348736\n",
      "stage5d.rebnconv4.bn_s1.weight torch.Size([256]) this param 256 total 33348992\n",
      "stage5d.rebnconv4.bn_s1.bias torch.Size([256]) this param 256 total 33349248\n",
      "stage5d.rebnconv3d.conv_s1.weight torch.Size([256, 512, 3, 3]) this param 1179648 total 34528896\n",
      "stage5d.rebnconv3d.conv_s1.bias torch.Size([256]) this param 256 total 34529152\n",
      "stage5d.rebnconv3d.bn_s1.weight torch.Size([256]) this param 256 total 34529408\n",
      "stage5d.rebnconv3d.bn_s1.bias torch.Size([256]) this param 256 total 34529664\n",
      "stage5d.rebnconv2d.conv_s1.weight torch.Size([256, 512, 3, 3]) this param 1179648 total 35709312\n",
      "stage5d.rebnconv2d.conv_s1.bias torch.Size([256]) this param 256 total 35709568\n",
      "stage5d.rebnconv2d.bn_s1.weight torch.Size([256]) this param 256 total 35709824\n",
      "stage5d.rebnconv2d.bn_s1.bias torch.Size([256]) this param 256 total 35710080\n",
      "stage5d.rebnconv1d.conv_s1.weight torch.Size([512, 512, 3, 3]) this param 2359296 total 38069376\n",
      "stage5d.rebnconv1d.conv_s1.bias torch.Size([512]) this param 512 total 38069888\n",
      "stage5d.rebnconv1d.bn_s1.weight torch.Size([512]) this param 512 total 38070400\n",
      "stage5d.rebnconv1d.bn_s1.bias torch.Size([512]) this param 512 total 38070912\n",
      "stage4d.rebnconvin.conv_s1.weight torch.Size([256, 1024, 3, 3]) this param 2359296 total 40430208\n",
      "stage4d.rebnconvin.conv_s1.bias torch.Size([256]) this param 256 total 40430464\n",
      "stage4d.rebnconvin.bn_s1.weight torch.Size([256]) this param 256 total 40430720\n",
      "stage4d.rebnconvin.bn_s1.bias torch.Size([256]) this param 256 total 40430976\n",
      "stage4d.rebnconv1.conv_s1.weight torch.Size([128, 256, 3, 3]) this param 294912 total 40725888\n",
      "stage4d.rebnconv1.conv_s1.bias torch.Size([128]) this param 128 total 40726016\n",
      "stage4d.rebnconv1.bn_s1.weight torch.Size([128]) this param 128 total 40726144\n",
      "stage4d.rebnconv1.bn_s1.bias torch.Size([128]) this param 128 total 40726272\n",
      "stage4d.rebnconv2.conv_s1.weight torch.Size([128, 128, 3, 3]) this param 147456 total 40873728\n",
      "stage4d.rebnconv2.conv_s1.bias torch.Size([128]) this param 128 total 40873856\n",
      "stage4d.rebnconv2.bn_s1.weight torch.Size([128]) this param 128 total 40873984\n",
      "stage4d.rebnconv2.bn_s1.bias torch.Size([128]) this param 128 total 40874112\n",
      "stage4d.rebnconv3.conv_s1.weight torch.Size([128, 128, 3, 3]) this param 147456 total 41021568\n",
      "stage4d.rebnconv3.conv_s1.bias torch.Size([128]) this param 128 total 41021696\n",
      "stage4d.rebnconv3.bn_s1.weight torch.Size([128]) this param 128 total 41021824\n",
      "stage4d.rebnconv3.bn_s1.bias torch.Size([128]) this param 128 total 41021952\n",
      "stage4d.rebnconv4.conv_s1.weight torch.Size([128, 128, 3, 3]) this param 147456 total 41169408\n",
      "stage4d.rebnconv4.conv_s1.bias torch.Size([128]) this param 128 total 41169536\n",
      "stage4d.rebnconv4.bn_s1.weight torch.Size([128]) this param 128 total 41169664\n",
      "stage4d.rebnconv4.bn_s1.bias torch.Size([128]) this param 128 total 41169792\n",
      "stage4d.rebnconv3d.conv_s1.weight torch.Size([128, 256, 3, 3]) this param 294912 total 41464704\n",
      "stage4d.rebnconv3d.conv_s1.bias torch.Size([128]) this param 128 total 41464832\n",
      "stage4d.rebnconv3d.bn_s1.weight torch.Size([128]) this param 128 total 41464960\n",
      "stage4d.rebnconv3d.bn_s1.bias torch.Size([128]) this param 128 total 41465088\n",
      "stage4d.rebnconv2d.conv_s1.weight torch.Size([128, 256, 3, 3]) this param 294912 total 41760000\n",
      "stage4d.rebnconv2d.conv_s1.bias torch.Size([128]) this param 128 total 41760128\n",
      "stage4d.rebnconv2d.bn_s1.weight torch.Size([128]) this param 128 total 41760256\n",
      "stage4d.rebnconv2d.bn_s1.bias torch.Size([128]) this param 128 total 41760384\n",
      "stage4d.rebnconv1d.conv_s1.weight torch.Size([256, 256, 3, 3]) this param 589824 total 42350208\n",
      "stage4d.rebnconv1d.conv_s1.bias torch.Size([256]) this param 256 total 42350464\n",
      "stage4d.rebnconv1d.bn_s1.weight torch.Size([256]) this param 256 total 42350720\n",
      "stage4d.rebnconv1d.bn_s1.bias torch.Size([256]) this param 256 total 42350976\n",
      "stage3d.rebnconvin.conv_s1.weight torch.Size([128, 512, 3, 3]) this param 589824 total 42940800\n",
      "stage3d.rebnconvin.conv_s1.bias torch.Size([128]) this param 128 total 42940928\n",
      "stage3d.rebnconvin.bn_s1.weight torch.Size([128]) this param 128 total 42941056\n",
      "stage3d.rebnconvin.bn_s1.bias torch.Size([128]) this param 128 total 42941184\n",
      "stage3d.rebnconv1.conv_s1.weight torch.Size([64, 128, 3, 3]) this param 73728 total 43014912\n",
      "stage3d.rebnconv1.conv_s1.bias torch.Size([64]) this param 64 total 43014976\n",
      "stage3d.rebnconv1.bn_s1.weight torch.Size([64]) this param 64 total 43015040\n",
      "stage3d.rebnconv1.bn_s1.bias torch.Size([64]) this param 64 total 43015104\n",
      "stage3d.rebnconv2.conv_s1.weight torch.Size([64, 64, 3, 3]) this param 36864 total 43051968\n",
      "stage3d.rebnconv2.conv_s1.bias torch.Size([64]) this param 64 total 43052032\n",
      "stage3d.rebnconv2.bn_s1.weight torch.Size([64]) this param 64 total 43052096\n",
      "stage3d.rebnconv2.bn_s1.bias torch.Size([64]) this param 64 total 43052160\n",
      "stage3d.rebnconv3.conv_s1.weight torch.Size([64, 64, 3, 3]) this param 36864 total 43089024\n",
      "stage3d.rebnconv3.conv_s1.bias torch.Size([64]) this param 64 total 43089088\n",
      "stage3d.rebnconv3.bn_s1.weight torch.Size([64]) this param 64 total 43089152\n",
      "stage3d.rebnconv3.bn_s1.bias torch.Size([64]) this param 64 total 43089216\n",
      "stage3d.rebnconv4.conv_s1.weight torch.Size([64, 64, 3, 3]) this param 36864 total 43126080\n",
      "stage3d.rebnconv4.conv_s1.bias torch.Size([64]) this param 64 total 43126144\n",
      "stage3d.rebnconv4.bn_s1.weight torch.Size([64]) this param 64 total 43126208\n",
      "stage3d.rebnconv4.bn_s1.bias torch.Size([64]) this param 64 total 43126272\n",
      "stage3d.rebnconv5.conv_s1.weight torch.Size([64, 64, 3, 3]) this param 36864 total 43163136\n",
      "stage3d.rebnconv5.conv_s1.bias torch.Size([64]) this param 64 total 43163200\n",
      "stage3d.rebnconv5.bn_s1.weight torch.Size([64]) this param 64 total 43163264\n",
      "stage3d.rebnconv5.bn_s1.bias torch.Size([64]) this param 64 total 43163328\n",
      "stage3d.rebnconv4d.conv_s1.weight torch.Size([64, 128, 3, 3]) this param 73728 total 43237056\n",
      "stage3d.rebnconv4d.conv_s1.bias torch.Size([64]) this param 64 total 43237120\n",
      "stage3d.rebnconv4d.bn_s1.weight torch.Size([64]) this param 64 total 43237184\n",
      "stage3d.rebnconv4d.bn_s1.bias torch.Size([64]) this param 64 total 43237248\n",
      "stage3d.rebnconv3d.conv_s1.weight torch.Size([64, 128, 3, 3]) this param 73728 total 43310976\n",
      "stage3d.rebnconv3d.conv_s1.bias torch.Size([64]) this param 64 total 43311040\n",
      "stage3d.rebnconv3d.bn_s1.weight torch.Size([64]) this param 64 total 43311104\n",
      "stage3d.rebnconv3d.bn_s1.bias torch.Size([64]) this param 64 total 43311168\n",
      "stage3d.rebnconv2d.conv_s1.weight torch.Size([64, 128, 3, 3]) this param 73728 total 43384896\n",
      "stage3d.rebnconv2d.conv_s1.bias torch.Size([64]) this param 64 total 43384960\n",
      "stage3d.rebnconv2d.bn_s1.weight torch.Size([64]) this param 64 total 43385024\n",
      "stage3d.rebnconv2d.bn_s1.bias torch.Size([64]) this param 64 total 43385088\n",
      "stage3d.rebnconv1d.conv_s1.weight torch.Size([128, 128, 3, 3]) this param 147456 total 43532544\n",
      "stage3d.rebnconv1d.conv_s1.bias torch.Size([128]) this param 128 total 43532672\n",
      "stage3d.rebnconv1d.bn_s1.weight torch.Size([128]) this param 128 total 43532800\n",
      "stage3d.rebnconv1d.bn_s1.bias torch.Size([128]) this param 128 total 43532928\n",
      "stage2d.rebnconvin.conv_s1.weight torch.Size([64, 256, 3, 3]) this param 147456 total 43680384\n",
      "stage2d.rebnconvin.conv_s1.bias torch.Size([64]) this param 64 total 43680448\n",
      "stage2d.rebnconvin.bn_s1.weight torch.Size([64]) this param 64 total 43680512\n",
      "stage2d.rebnconvin.bn_s1.bias torch.Size([64]) this param 64 total 43680576\n",
      "stage2d.rebnconv1.conv_s1.weight torch.Size([32, 64, 3, 3]) this param 18432 total 43699008\n",
      "stage2d.rebnconv1.conv_s1.bias torch.Size([32]) this param 32 total 43699040\n",
      "stage2d.rebnconv1.bn_s1.weight torch.Size([32]) this param 32 total 43699072\n",
      "stage2d.rebnconv1.bn_s1.bias torch.Size([32]) this param 32 total 43699104\n",
      "stage2d.rebnconv2.conv_s1.weight torch.Size([32, 32, 3, 3]) this param 9216 total 43708320\n",
      "stage2d.rebnconv2.conv_s1.bias torch.Size([32]) this param 32 total 43708352\n",
      "stage2d.rebnconv2.bn_s1.weight torch.Size([32]) this param 32 total 43708384\n",
      "stage2d.rebnconv2.bn_s1.bias torch.Size([32]) this param 32 total 43708416\n",
      "stage2d.rebnconv3.conv_s1.weight torch.Size([32, 32, 3, 3]) this param 9216 total 43717632\n",
      "stage2d.rebnconv3.conv_s1.bias torch.Size([32]) this param 32 total 43717664\n",
      "stage2d.rebnconv3.bn_s1.weight torch.Size([32]) this param 32 total 43717696\n",
      "stage2d.rebnconv3.bn_s1.bias torch.Size([32]) this param 32 total 43717728\n",
      "stage2d.rebnconv4.conv_s1.weight torch.Size([32, 32, 3, 3]) this param 9216 total 43726944\n",
      "stage2d.rebnconv4.conv_s1.bias torch.Size([32]) this param 32 total 43726976\n",
      "stage2d.rebnconv4.bn_s1.weight torch.Size([32]) this param 32 total 43727008\n",
      "stage2d.rebnconv4.bn_s1.bias torch.Size([32]) this param 32 total 43727040\n",
      "stage2d.rebnconv5.conv_s1.weight torch.Size([32, 32, 3, 3]) this param 9216 total 43736256\n",
      "stage2d.rebnconv5.conv_s1.bias torch.Size([32]) this param 32 total 43736288\n",
      "stage2d.rebnconv5.bn_s1.weight torch.Size([32]) this param 32 total 43736320\n",
      "stage2d.rebnconv5.bn_s1.bias torch.Size([32]) this param 32 total 43736352\n",
      "stage2d.rebnconv6.conv_s1.weight torch.Size([32, 32, 3, 3]) this param 9216 total 43745568\n",
      "stage2d.rebnconv6.conv_s1.bias torch.Size([32]) this param 32 total 43745600\n",
      "stage2d.rebnconv6.bn_s1.weight torch.Size([32]) this param 32 total 43745632\n",
      "stage2d.rebnconv6.bn_s1.bias torch.Size([32]) this param 32 total 43745664\n",
      "stage2d.rebnconv5d.conv_s1.weight torch.Size([32, 64, 3, 3]) this param 18432 total 43764096\n",
      "stage2d.rebnconv5d.conv_s1.bias torch.Size([32]) this param 32 total 43764128\n",
      "stage2d.rebnconv5d.bn_s1.weight torch.Size([32]) this param 32 total 43764160\n",
      "stage2d.rebnconv5d.bn_s1.bias torch.Size([32]) this param 32 total 43764192\n",
      "stage2d.rebnconv4d.conv_s1.weight torch.Size([32, 64, 3, 3]) this param 18432 total 43782624\n",
      "stage2d.rebnconv4d.conv_s1.bias torch.Size([32]) this param 32 total 43782656\n",
      "stage2d.rebnconv4d.bn_s1.weight torch.Size([32]) this param 32 total 43782688\n",
      "stage2d.rebnconv4d.bn_s1.bias torch.Size([32]) this param 32 total 43782720\n",
      "stage2d.rebnconv3d.conv_s1.weight torch.Size([32, 64, 3, 3]) this param 18432 total 43801152\n",
      "stage2d.rebnconv3d.conv_s1.bias torch.Size([32]) this param 32 total 43801184\n",
      "stage2d.rebnconv3d.bn_s1.weight torch.Size([32]) this param 32 total 43801216\n",
      "stage2d.rebnconv3d.bn_s1.bias torch.Size([32]) this param 32 total 43801248\n",
      "stage2d.rebnconv2d.conv_s1.weight torch.Size([32, 64, 3, 3]) this param 18432 total 43819680\n",
      "stage2d.rebnconv2d.conv_s1.bias torch.Size([32]) this param 32 total 43819712\n",
      "stage2d.rebnconv2d.bn_s1.weight torch.Size([32]) this param 32 total 43819744\n",
      "stage2d.rebnconv2d.bn_s1.bias torch.Size([32]) this param 32 total 43819776\n",
      "stage2d.rebnconv1d.conv_s1.weight torch.Size([64, 64, 3, 3]) this param 36864 total 43856640\n",
      "stage2d.rebnconv1d.conv_s1.bias torch.Size([64]) this param 64 total 43856704\n",
      "stage2d.rebnconv1d.bn_s1.weight torch.Size([64]) this param 64 total 43856768\n",
      "stage2d.rebnconv1d.bn_s1.bias torch.Size([64]) this param 64 total 43856832\n",
      "stage1d.rebnconvin.conv_s1.weight torch.Size([64, 128, 3, 3]) this param 73728 total 43930560\n",
      "stage1d.rebnconvin.conv_s1.bias torch.Size([64]) this param 64 total 43930624\n",
      "stage1d.rebnconvin.bn_s1.weight torch.Size([64]) this param 64 total 43930688\n",
      "stage1d.rebnconvin.bn_s1.bias torch.Size([64]) this param 64 total 43930752\n",
      "stage1d.rebnconv1.conv_s1.weight torch.Size([16, 64, 3, 3]) this param 9216 total 43939968\n",
      "stage1d.rebnconv1.conv_s1.bias torch.Size([16]) this param 16 total 43939984\n",
      "stage1d.rebnconv1.bn_s1.weight torch.Size([16]) this param 16 total 43940000\n",
      "stage1d.rebnconv1.bn_s1.bias torch.Size([16]) this param 16 total 43940016\n",
      "stage1d.rebnconv2.conv_s1.weight torch.Size([16, 16, 3, 3]) this param 2304 total 43942320\n",
      "stage1d.rebnconv2.conv_s1.bias torch.Size([16]) this param 16 total 43942336\n",
      "stage1d.rebnconv2.bn_s1.weight torch.Size([16]) this param 16 total 43942352\n",
      "stage1d.rebnconv2.bn_s1.bias torch.Size([16]) this param 16 total 43942368\n",
      "stage1d.rebnconv3.conv_s1.weight torch.Size([16, 16, 3, 3]) this param 2304 total 43944672\n",
      "stage1d.rebnconv3.conv_s1.bias torch.Size([16]) this param 16 total 43944688\n",
      "stage1d.rebnconv3.bn_s1.weight torch.Size([16]) this param 16 total 43944704\n",
      "stage1d.rebnconv3.bn_s1.bias torch.Size([16]) this param 16 total 43944720\n",
      "stage1d.rebnconv4.conv_s1.weight torch.Size([16, 16, 3, 3]) this param 2304 total 43947024\n",
      "stage1d.rebnconv4.conv_s1.bias torch.Size([16]) this param 16 total 43947040\n",
      "stage1d.rebnconv4.bn_s1.weight torch.Size([16]) this param 16 total 43947056\n",
      "stage1d.rebnconv4.bn_s1.bias torch.Size([16]) this param 16 total 43947072\n",
      "stage1d.rebnconv5.conv_s1.weight torch.Size([16, 16, 3, 3]) this param 2304 total 43949376\n",
      "stage1d.rebnconv5.conv_s1.bias torch.Size([16]) this param 16 total 43949392\n",
      "stage1d.rebnconv5.bn_s1.weight torch.Size([16]) this param 16 total 43949408\n",
      "stage1d.rebnconv5.bn_s1.bias torch.Size([16]) this param 16 total 43949424\n",
      "stage1d.rebnconv6.conv_s1.weight torch.Size([16, 16, 3, 3]) this param 2304 total 43951728\n",
      "stage1d.rebnconv6.conv_s1.bias torch.Size([16]) this param 16 total 43951744\n",
      "stage1d.rebnconv6.bn_s1.weight torch.Size([16]) this param 16 total 43951760\n",
      "stage1d.rebnconv6.bn_s1.bias torch.Size([16]) this param 16 total 43951776\n",
      "stage1d.rebnconv7.conv_s1.weight torch.Size([16, 16, 3, 3]) this param 2304 total 43954080\n",
      "stage1d.rebnconv7.conv_s1.bias torch.Size([16]) this param 16 total 43954096\n",
      "stage1d.rebnconv7.bn_s1.weight torch.Size([16]) this param 16 total 43954112\n",
      "stage1d.rebnconv7.bn_s1.bias torch.Size([16]) this param 16 total 43954128\n",
      "stage1d.rebnconv6d.conv_s1.weight torch.Size([16, 32, 3, 3]) this param 4608 total 43958736\n",
      "stage1d.rebnconv6d.conv_s1.bias torch.Size([16]) this param 16 total 43958752\n",
      "stage1d.rebnconv6d.bn_s1.weight torch.Size([16]) this param 16 total 43958768\n",
      "stage1d.rebnconv6d.bn_s1.bias torch.Size([16]) this param 16 total 43958784\n",
      "stage1d.rebnconv5d.conv_s1.weight torch.Size([16, 32, 3, 3]) this param 4608 total 43963392\n",
      "stage1d.rebnconv5d.conv_s1.bias torch.Size([16]) this param 16 total 43963408\n",
      "stage1d.rebnconv5d.bn_s1.weight torch.Size([16]) this param 16 total 43963424\n",
      "stage1d.rebnconv5d.bn_s1.bias torch.Size([16]) this param 16 total 43963440\n",
      "stage1d.rebnconv4d.conv_s1.weight torch.Size([16, 32, 3, 3]) this param 4608 total 43968048\n",
      "stage1d.rebnconv4d.conv_s1.bias torch.Size([16]) this param 16 total 43968064\n",
      "stage1d.rebnconv4d.bn_s1.weight torch.Size([16]) this param 16 total 43968080\n",
      "stage1d.rebnconv4d.bn_s1.bias torch.Size([16]) this param 16 total 43968096\n",
      "stage1d.rebnconv3d.conv_s1.weight torch.Size([16, 32, 3, 3]) this param 4608 total 43972704\n",
      "stage1d.rebnconv3d.conv_s1.bias torch.Size([16]) this param 16 total 43972720\n",
      "stage1d.rebnconv3d.bn_s1.weight torch.Size([16]) this param 16 total 43972736\n",
      "stage1d.rebnconv3d.bn_s1.bias torch.Size([16]) this param 16 total 43972752\n",
      "stage1d.rebnconv2d.conv_s1.weight torch.Size([16, 32, 3, 3]) this param 4608 total 43977360\n",
      "stage1d.rebnconv2d.conv_s1.bias torch.Size([16]) this param 16 total 43977376\n",
      "stage1d.rebnconv2d.bn_s1.weight torch.Size([16]) this param 16 total 43977392\n",
      "stage1d.rebnconv2d.bn_s1.bias torch.Size([16]) this param 16 total 43977408\n",
      "stage1d.rebnconv1d.conv_s1.weight torch.Size([64, 32, 3, 3]) this param 18432 total 43995840\n",
      "stage1d.rebnconv1d.conv_s1.bias torch.Size([64]) this param 64 total 43995904\n",
      "stage1d.rebnconv1d.bn_s1.weight torch.Size([64]) this param 64 total 43995968\n",
      "stage1d.rebnconv1d.bn_s1.bias torch.Size([64]) this param 64 total 43996032\n",
      "side1.weight torch.Size([59, 64, 3, 3]) this param 33984 total 44030016\n",
      "side1.bias torch.Size([59]) this param 59 total 44030075\n",
      "side2.weight torch.Size([59, 64, 3, 3]) this param 33984 total 44064059\n",
      "side2.bias torch.Size([59]) this param 59 total 44064118\n",
      "side3.weight torch.Size([59, 128, 3, 3]) this param 67968 total 44132086\n",
      "side3.bias torch.Size([59]) this param 59 total 44132145\n",
      "side4.weight torch.Size([59, 256, 3, 3]) this param 135936 total 44268081\n",
      "side4.bias torch.Size([59]) this param 59 total 44268140\n",
      "side5.weight torch.Size([59, 512, 3, 3]) this param 271872 total 44540012\n",
      "side5.bias torch.Size([59]) this param 59 total 44540071\n",
      "side6.weight torch.Size([59, 512, 3, 3]) this param 271872 total 44811943\n",
      "side6.bias torch.Size([59]) this param 59 total 44812002\n",
      "outconv.weight torch.Size([59, 354, 1, 1]) this param 20886 total 44832888\n",
      "outconv.bias torch.Size([59]) this param 59 total 44832947\n",
      "total 44832947\n"
     ]
    }
   ],
   "source": [
    "def print_network_parameters():\n",
    "    num_paras = 0\n",
    "    for (name, paras) in list(Net.named_parameters()):\n",
    "        n = 1\n",
    "        for m in paras.size():\n",
    "            n = n * m\n",
    "        num_paras += n\n",
    "        print(name, paras.size(), \"this param\", n, \"total\", num_paras)\n",
    "    print(\"total\", num_paras)\n",
    "\n",
    "print_network_parameters()"
   ]
  }
 ],
 "metadata": {
  "interpreter": {
   "hash": "b0fa6594d8f4cbf19f97940f81e996739fb7646882a419484c72d19e05852a7e"
  },
  "kernelspec": {
   "display_name": "Python [conda env:.conda-9444]",
   "language": "python",
   "name": "python3"
  },
  "language_info": {
   "codemirror_mode": {
    "name": "ipython",
    "version": 3
   },
   "file_extension": ".py",
   "mimetype": "text/x-python",
   "name": "python",
   "nbconvert_exporter": "python",
   "pygments_lexer": "ipython3",
   "version": "3.10.6"
  }
 },
 "nbformat": 4,
 "nbformat_minor": 5
}
